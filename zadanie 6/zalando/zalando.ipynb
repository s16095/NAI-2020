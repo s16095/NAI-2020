{
  "nbformat": 4,
  "nbformat_minor": 0,
  "metadata": {
    "colab": {
      "name": "Kopia notatnika zalando.ipynb",
      "provenance": [],
      "collapsed_sections": []
    },
    "kernelspec": {
      "name": "python3",
      "display_name": "Python 3"
    },
    "accelerator": "GPU"
  },
  "cells": [
    {
      "cell_type": "code",
      "metadata": {
        "colab": {
          "base_uri": "https://localhost:8080/"
        },
        "id": "PbdrqeFc6HL0",
        "outputId": "6873f399-fd3e-4c80-f65c-b211a82f60b8"
      },
      "source": [
        "pip install visualkeras"
      ],
      "execution_count": null,
      "outputs": [
        {
          "output_type": "stream",
          "text": [
            "Collecting visualkeras\n",
            "  Downloading https://files.pythonhosted.org/packages/3c/7d/86ba86f710378e753ed690048710bf917b9121b7c6c5f5b07ec5323c4adc/visualkeras-0.0.1-py3-none-any.whl\n",
            "Requirement already satisfied: pillow>=6.2.0 in /usr/local/lib/python3.6/dist-packages (from visualkeras) (7.0.0)\n",
            "Installing collected packages: visualkeras\n",
            "Successfully installed visualkeras-0.0.1\n"
          ],
          "name": "stdout"
        }
      ]
    },
    {
      "cell_type": "code",
      "metadata": {
        "id": "7GsETjT86Ll7"
      },
      "source": [
        "import numpy as np\n",
        "import pandas as pd\n",
        "import matplotlib.pyplot as plt\n",
        "%matplotlib inline\n",
        "from tensorflow.keras.models import Sequential\n",
        "from tensorflow.keras.layers import Dense, Conv2D, MaxPool2D, Flatten, Dropout, BatchNormalization\n",
        "from tensorflow.keras.callbacks import EarlyStopping\n",
        "from sklearn.metrics import classification_report, confusion_matrix\n",
        "import seaborn as sns\n",
        "from sklearn.model_selection import train_test_split\n",
        "import visualkeras\n",
        "from tensorflow.keras.utils import plot_model\n",
        "from tensorflow.keras.utils import to_categorical\n",
        "from tensorflow.keras.optimizers import Adam\n",
        "import pydot\n",
        "import graphviz\n",
        "from PIL import Image"
      ],
      "execution_count": null,
      "outputs": []
    },
    {
      "cell_type": "markdown",
      "metadata": {
        "id": "o5TXQt_oCuiO"
      },
      "source": [
        "Importing training and test datasets\n",
        "\n"
      ]
    },
    {
      "cell_type": "code",
      "metadata": {
        "id": "qaMA_fF86QDw"
      },
      "source": [
        "test_df = pd.read_csv('/content/Data Sources/fashion-mnist_test.csv')\n",
        "train_df = pd.read_csv('/content/Data Sources/fashion-mnist_train.csv')"
      ],
      "execution_count": null,
      "outputs": []
    },
    {
      "cell_type": "code",
      "metadata": {
        "colab": {
          "base_uri": "https://localhost:8080/",
          "height": 253
        },
        "id": "Pg8sishu7qFd",
        "outputId": "db5184bc-6003-43c1-e067-1c9d0ace7833"
      },
      "source": [
        "train_df.head()"
      ],
      "execution_count": null,
      "outputs": [
        {
          "output_type": "execute_result",
          "data": {
            "text/html": [
              "<div>\n",
              "<style scoped>\n",
              "    .dataframe tbody tr th:only-of-type {\n",
              "        vertical-align: middle;\n",
              "    }\n",
              "\n",
              "    .dataframe tbody tr th {\n",
              "        vertical-align: top;\n",
              "    }\n",
              "\n",
              "    .dataframe thead th {\n",
              "        text-align: right;\n",
              "    }\n",
              "</style>\n",
              "<table border=\"1\" class=\"dataframe\">\n",
              "  <thead>\n",
              "    <tr style=\"text-align: right;\">\n",
              "      <th></th>\n",
              "      <th>label</th>\n",
              "      <th>pixel1</th>\n",
              "      <th>pixel2</th>\n",
              "      <th>pixel3</th>\n",
              "      <th>pixel4</th>\n",
              "      <th>pixel5</th>\n",
              "      <th>pixel6</th>\n",
              "      <th>pixel7</th>\n",
              "      <th>pixel8</th>\n",
              "      <th>pixel9</th>\n",
              "      <th>pixel10</th>\n",
              "      <th>pixel11</th>\n",
              "      <th>pixel12</th>\n",
              "      <th>pixel13</th>\n",
              "      <th>pixel14</th>\n",
              "      <th>pixel15</th>\n",
              "      <th>pixel16</th>\n",
              "      <th>pixel17</th>\n",
              "      <th>pixel18</th>\n",
              "      <th>pixel19</th>\n",
              "      <th>pixel20</th>\n",
              "      <th>pixel21</th>\n",
              "      <th>pixel22</th>\n",
              "      <th>pixel23</th>\n",
              "      <th>pixel24</th>\n",
              "      <th>pixel25</th>\n",
              "      <th>pixel26</th>\n",
              "      <th>pixel27</th>\n",
              "      <th>pixel28</th>\n",
              "      <th>pixel29</th>\n",
              "      <th>pixel30</th>\n",
              "      <th>pixel31</th>\n",
              "      <th>pixel32</th>\n",
              "      <th>pixel33</th>\n",
              "      <th>pixel34</th>\n",
              "      <th>pixel35</th>\n",
              "      <th>pixel36</th>\n",
              "      <th>pixel37</th>\n",
              "      <th>pixel38</th>\n",
              "      <th>pixel39</th>\n",
              "      <th>...</th>\n",
              "      <th>pixel745</th>\n",
              "      <th>pixel746</th>\n",
              "      <th>pixel747</th>\n",
              "      <th>pixel748</th>\n",
              "      <th>pixel749</th>\n",
              "      <th>pixel750</th>\n",
              "      <th>pixel751</th>\n",
              "      <th>pixel752</th>\n",
              "      <th>pixel753</th>\n",
              "      <th>pixel754</th>\n",
              "      <th>pixel755</th>\n",
              "      <th>pixel756</th>\n",
              "      <th>pixel757</th>\n",
              "      <th>pixel758</th>\n",
              "      <th>pixel759</th>\n",
              "      <th>pixel760</th>\n",
              "      <th>pixel761</th>\n",
              "      <th>pixel762</th>\n",
              "      <th>pixel763</th>\n",
              "      <th>pixel764</th>\n",
              "      <th>pixel765</th>\n",
              "      <th>pixel766</th>\n",
              "      <th>pixel767</th>\n",
              "      <th>pixel768</th>\n",
              "      <th>pixel769</th>\n",
              "      <th>pixel770</th>\n",
              "      <th>pixel771</th>\n",
              "      <th>pixel772</th>\n",
              "      <th>pixel773</th>\n",
              "      <th>pixel774</th>\n",
              "      <th>pixel775</th>\n",
              "      <th>pixel776</th>\n",
              "      <th>pixel777</th>\n",
              "      <th>pixel778</th>\n",
              "      <th>pixel779</th>\n",
              "      <th>pixel780</th>\n",
              "      <th>pixel781</th>\n",
              "      <th>pixel782</th>\n",
              "      <th>pixel783</th>\n",
              "      <th>pixel784</th>\n",
              "    </tr>\n",
              "  </thead>\n",
              "  <tbody>\n",
              "    <tr>\n",
              "      <th>0</th>\n",
              "      <td>2</td>\n",
              "      <td>0</td>\n",
              "      <td>0</td>\n",
              "      <td>0</td>\n",
              "      <td>0</td>\n",
              "      <td>0</td>\n",
              "      <td>0</td>\n",
              "      <td>0</td>\n",
              "      <td>0</td>\n",
              "      <td>0</td>\n",
              "      <td>0</td>\n",
              "      <td>0</td>\n",
              "      <td>0</td>\n",
              "      <td>0</td>\n",
              "      <td>0</td>\n",
              "      <td>0</td>\n",
              "      <td>0</td>\n",
              "      <td>0</td>\n",
              "      <td>0</td>\n",
              "      <td>0</td>\n",
              "      <td>0</td>\n",
              "      <td>0</td>\n",
              "      <td>0</td>\n",
              "      <td>0</td>\n",
              "      <td>0</td>\n",
              "      <td>0</td>\n",
              "      <td>0</td>\n",
              "      <td>0</td>\n",
              "      <td>0</td>\n",
              "      <td>0</td>\n",
              "      <td>0</td>\n",
              "      <td>0</td>\n",
              "      <td>0</td>\n",
              "      <td>0</td>\n",
              "      <td>0</td>\n",
              "      <td>0</td>\n",
              "      <td>0</td>\n",
              "      <td>0</td>\n",
              "      <td>0</td>\n",
              "      <td>0</td>\n",
              "      <td>...</td>\n",
              "      <td>0</td>\n",
              "      <td>0</td>\n",
              "      <td>0</td>\n",
              "      <td>0</td>\n",
              "      <td>0</td>\n",
              "      <td>0</td>\n",
              "      <td>0</td>\n",
              "      <td>0</td>\n",
              "      <td>0</td>\n",
              "      <td>0</td>\n",
              "      <td>0</td>\n",
              "      <td>0</td>\n",
              "      <td>0</td>\n",
              "      <td>0</td>\n",
              "      <td>0</td>\n",
              "      <td>0</td>\n",
              "      <td>0</td>\n",
              "      <td>0</td>\n",
              "      <td>0</td>\n",
              "      <td>0</td>\n",
              "      <td>0</td>\n",
              "      <td>0</td>\n",
              "      <td>0</td>\n",
              "      <td>0</td>\n",
              "      <td>0</td>\n",
              "      <td>0</td>\n",
              "      <td>0</td>\n",
              "      <td>0</td>\n",
              "      <td>0</td>\n",
              "      <td>0</td>\n",
              "      <td>0</td>\n",
              "      <td>0</td>\n",
              "      <td>0</td>\n",
              "      <td>0</td>\n",
              "      <td>0</td>\n",
              "      <td>0</td>\n",
              "      <td>0</td>\n",
              "      <td>0</td>\n",
              "      <td>0</td>\n",
              "      <td>0</td>\n",
              "    </tr>\n",
              "    <tr>\n",
              "      <th>1</th>\n",
              "      <td>9</td>\n",
              "      <td>0</td>\n",
              "      <td>0</td>\n",
              "      <td>0</td>\n",
              "      <td>0</td>\n",
              "      <td>0</td>\n",
              "      <td>0</td>\n",
              "      <td>0</td>\n",
              "      <td>0</td>\n",
              "      <td>0</td>\n",
              "      <td>0</td>\n",
              "      <td>0</td>\n",
              "      <td>0</td>\n",
              "      <td>0</td>\n",
              "      <td>0</td>\n",
              "      <td>0</td>\n",
              "      <td>0</td>\n",
              "      <td>0</td>\n",
              "      <td>0</td>\n",
              "      <td>0</td>\n",
              "      <td>0</td>\n",
              "      <td>0</td>\n",
              "      <td>0</td>\n",
              "      <td>0</td>\n",
              "      <td>0</td>\n",
              "      <td>0</td>\n",
              "      <td>0</td>\n",
              "      <td>0</td>\n",
              "      <td>0</td>\n",
              "      <td>0</td>\n",
              "      <td>0</td>\n",
              "      <td>0</td>\n",
              "      <td>0</td>\n",
              "      <td>0</td>\n",
              "      <td>0</td>\n",
              "      <td>0</td>\n",
              "      <td>0</td>\n",
              "      <td>0</td>\n",
              "      <td>0</td>\n",
              "      <td>0</td>\n",
              "      <td>...</td>\n",
              "      <td>0</td>\n",
              "      <td>0</td>\n",
              "      <td>0</td>\n",
              "      <td>0</td>\n",
              "      <td>0</td>\n",
              "      <td>0</td>\n",
              "      <td>0</td>\n",
              "      <td>0</td>\n",
              "      <td>0</td>\n",
              "      <td>0</td>\n",
              "      <td>0</td>\n",
              "      <td>0</td>\n",
              "      <td>0</td>\n",
              "      <td>0</td>\n",
              "      <td>0</td>\n",
              "      <td>0</td>\n",
              "      <td>0</td>\n",
              "      <td>0</td>\n",
              "      <td>0</td>\n",
              "      <td>0</td>\n",
              "      <td>0</td>\n",
              "      <td>0</td>\n",
              "      <td>0</td>\n",
              "      <td>0</td>\n",
              "      <td>0</td>\n",
              "      <td>0</td>\n",
              "      <td>0</td>\n",
              "      <td>0</td>\n",
              "      <td>0</td>\n",
              "      <td>0</td>\n",
              "      <td>0</td>\n",
              "      <td>0</td>\n",
              "      <td>0</td>\n",
              "      <td>0</td>\n",
              "      <td>0</td>\n",
              "      <td>0</td>\n",
              "      <td>0</td>\n",
              "      <td>0</td>\n",
              "      <td>0</td>\n",
              "      <td>0</td>\n",
              "    </tr>\n",
              "    <tr>\n",
              "      <th>2</th>\n",
              "      <td>6</td>\n",
              "      <td>0</td>\n",
              "      <td>0</td>\n",
              "      <td>0</td>\n",
              "      <td>0</td>\n",
              "      <td>0</td>\n",
              "      <td>0</td>\n",
              "      <td>0</td>\n",
              "      <td>5</td>\n",
              "      <td>0</td>\n",
              "      <td>0</td>\n",
              "      <td>0</td>\n",
              "      <td>105</td>\n",
              "      <td>92</td>\n",
              "      <td>101</td>\n",
              "      <td>107</td>\n",
              "      <td>100</td>\n",
              "      <td>132</td>\n",
              "      <td>0</td>\n",
              "      <td>0</td>\n",
              "      <td>2</td>\n",
              "      <td>4</td>\n",
              "      <td>0</td>\n",
              "      <td>1</td>\n",
              "      <td>0</td>\n",
              "      <td>0</td>\n",
              "      <td>0</td>\n",
              "      <td>0</td>\n",
              "      <td>0</td>\n",
              "      <td>0</td>\n",
              "      <td>0</td>\n",
              "      <td>0</td>\n",
              "      <td>0</td>\n",
              "      <td>0</td>\n",
              "      <td>0</td>\n",
              "      <td>0</td>\n",
              "      <td>0</td>\n",
              "      <td>0</td>\n",
              "      <td>0</td>\n",
              "      <td>150</td>\n",
              "      <td>...</td>\n",
              "      <td>211</td>\n",
              "      <td>220</td>\n",
              "      <td>214</td>\n",
              "      <td>74</td>\n",
              "      <td>0</td>\n",
              "      <td>255</td>\n",
              "      <td>222</td>\n",
              "      <td>128</td>\n",
              "      <td>0</td>\n",
              "      <td>0</td>\n",
              "      <td>0</td>\n",
              "      <td>0</td>\n",
              "      <td>0</td>\n",
              "      <td>0</td>\n",
              "      <td>0</td>\n",
              "      <td>0</td>\n",
              "      <td>0</td>\n",
              "      <td>44</td>\n",
              "      <td>12</td>\n",
              "      <td>0</td>\n",
              "      <td>0</td>\n",
              "      <td>40</td>\n",
              "      <td>134</td>\n",
              "      <td>162</td>\n",
              "      <td>191</td>\n",
              "      <td>214</td>\n",
              "      <td>163</td>\n",
              "      <td>146</td>\n",
              "      <td>165</td>\n",
              "      <td>79</td>\n",
              "      <td>0</td>\n",
              "      <td>0</td>\n",
              "      <td>0</td>\n",
              "      <td>30</td>\n",
              "      <td>43</td>\n",
              "      <td>0</td>\n",
              "      <td>0</td>\n",
              "      <td>0</td>\n",
              "      <td>0</td>\n",
              "      <td>0</td>\n",
              "    </tr>\n",
              "    <tr>\n",
              "      <th>3</th>\n",
              "      <td>0</td>\n",
              "      <td>0</td>\n",
              "      <td>0</td>\n",
              "      <td>0</td>\n",
              "      <td>1</td>\n",
              "      <td>2</td>\n",
              "      <td>0</td>\n",
              "      <td>0</td>\n",
              "      <td>0</td>\n",
              "      <td>0</td>\n",
              "      <td>0</td>\n",
              "      <td>114</td>\n",
              "      <td>183</td>\n",
              "      <td>112</td>\n",
              "      <td>55</td>\n",
              "      <td>23</td>\n",
              "      <td>72</td>\n",
              "      <td>102</td>\n",
              "      <td>165</td>\n",
              "      <td>160</td>\n",
              "      <td>28</td>\n",
              "      <td>0</td>\n",
              "      <td>0</td>\n",
              "      <td>0</td>\n",
              "      <td>1</td>\n",
              "      <td>0</td>\n",
              "      <td>0</td>\n",
              "      <td>0</td>\n",
              "      <td>0</td>\n",
              "      <td>0</td>\n",
              "      <td>0</td>\n",
              "      <td>0</td>\n",
              "      <td>0</td>\n",
              "      <td>1</td>\n",
              "      <td>0</td>\n",
              "      <td>0</td>\n",
              "      <td>24</td>\n",
              "      <td>188</td>\n",
              "      <td>163</td>\n",
              "      <td>93</td>\n",
              "      <td>...</td>\n",
              "      <td>171</td>\n",
              "      <td>249</td>\n",
              "      <td>207</td>\n",
              "      <td>197</td>\n",
              "      <td>202</td>\n",
              "      <td>45</td>\n",
              "      <td>0</td>\n",
              "      <td>3</td>\n",
              "      <td>0</td>\n",
              "      <td>0</td>\n",
              "      <td>0</td>\n",
              "      <td>0</td>\n",
              "      <td>0</td>\n",
              "      <td>0</td>\n",
              "      <td>0</td>\n",
              "      <td>0</td>\n",
              "      <td>0</td>\n",
              "      <td>0</td>\n",
              "      <td>1</td>\n",
              "      <td>0</td>\n",
              "      <td>0</td>\n",
              "      <td>0</td>\n",
              "      <td>22</td>\n",
              "      <td>21</td>\n",
              "      <td>25</td>\n",
              "      <td>69</td>\n",
              "      <td>52</td>\n",
              "      <td>45</td>\n",
              "      <td>74</td>\n",
              "      <td>39</td>\n",
              "      <td>3</td>\n",
              "      <td>0</td>\n",
              "      <td>0</td>\n",
              "      <td>0</td>\n",
              "      <td>0</td>\n",
              "      <td>1</td>\n",
              "      <td>0</td>\n",
              "      <td>0</td>\n",
              "      <td>0</td>\n",
              "      <td>0</td>\n",
              "    </tr>\n",
              "    <tr>\n",
              "      <th>4</th>\n",
              "      <td>3</td>\n",
              "      <td>0</td>\n",
              "      <td>0</td>\n",
              "      <td>0</td>\n",
              "      <td>0</td>\n",
              "      <td>0</td>\n",
              "      <td>0</td>\n",
              "      <td>0</td>\n",
              "      <td>0</td>\n",
              "      <td>0</td>\n",
              "      <td>0</td>\n",
              "      <td>0</td>\n",
              "      <td>0</td>\n",
              "      <td>46</td>\n",
              "      <td>0</td>\n",
              "      <td>21</td>\n",
              "      <td>68</td>\n",
              "      <td>0</td>\n",
              "      <td>0</td>\n",
              "      <td>0</td>\n",
              "      <td>0</td>\n",
              "      <td>0</td>\n",
              "      <td>0</td>\n",
              "      <td>0</td>\n",
              "      <td>0</td>\n",
              "      <td>0</td>\n",
              "      <td>0</td>\n",
              "      <td>0</td>\n",
              "      <td>0</td>\n",
              "      <td>0</td>\n",
              "      <td>0</td>\n",
              "      <td>0</td>\n",
              "      <td>0</td>\n",
              "      <td>0</td>\n",
              "      <td>0</td>\n",
              "      <td>0</td>\n",
              "      <td>0</td>\n",
              "      <td>25</td>\n",
              "      <td>187</td>\n",
              "      <td>189</td>\n",
              "      <td>...</td>\n",
              "      <td>230</td>\n",
              "      <td>237</td>\n",
              "      <td>229</td>\n",
              "      <td>0</td>\n",
              "      <td>0</td>\n",
              "      <td>1</td>\n",
              "      <td>0</td>\n",
              "      <td>0</td>\n",
              "      <td>0</td>\n",
              "      <td>0</td>\n",
              "      <td>0</td>\n",
              "      <td>0</td>\n",
              "      <td>0</td>\n",
              "      <td>0</td>\n",
              "      <td>0</td>\n",
              "      <td>0</td>\n",
              "      <td>0</td>\n",
              "      <td>0</td>\n",
              "      <td>0</td>\n",
              "      <td>0</td>\n",
              "      <td>0</td>\n",
              "      <td>68</td>\n",
              "      <td>116</td>\n",
              "      <td>112</td>\n",
              "      <td>136</td>\n",
              "      <td>147</td>\n",
              "      <td>144</td>\n",
              "      <td>121</td>\n",
              "      <td>102</td>\n",
              "      <td>63</td>\n",
              "      <td>0</td>\n",
              "      <td>0</td>\n",
              "      <td>0</td>\n",
              "      <td>0</td>\n",
              "      <td>0</td>\n",
              "      <td>0</td>\n",
              "      <td>0</td>\n",
              "      <td>0</td>\n",
              "      <td>0</td>\n",
              "      <td>0</td>\n",
              "    </tr>\n",
              "  </tbody>\n",
              "</table>\n",
              "<p>5 rows × 785 columns</p>\n",
              "</div>"
            ],
            "text/plain": [
              "   label  pixel1  pixel2  pixel3  ...  pixel781  pixel782  pixel783  pixel784\n",
              "0      2       0       0       0  ...         0         0         0         0\n",
              "1      9       0       0       0  ...         0         0         0         0\n",
              "2      6       0       0       0  ...         0         0         0         0\n",
              "3      0       0       0       0  ...         0         0         0         0\n",
              "4      3       0       0       0  ...         0         0         0         0\n",
              "\n",
              "[5 rows x 785 columns]"
            ]
          },
          "metadata": {
            "tags": []
          },
          "execution_count": 42
        }
      ]
    },
    {
      "cell_type": "code",
      "metadata": {
        "colab": {
          "base_uri": "https://localhost:8080/",
          "height": 253
        },
        "id": "iGYYaKyl7q0B",
        "outputId": "46589028-183d-4e93-ee61-4d85a2934e14"
      },
      "source": [
        "test_df.head()\n"
      ],
      "execution_count": null,
      "outputs": [
        {
          "output_type": "execute_result",
          "data": {
            "text/html": [
              "<div>\n",
              "<style scoped>\n",
              "    .dataframe tbody tr th:only-of-type {\n",
              "        vertical-align: middle;\n",
              "    }\n",
              "\n",
              "    .dataframe tbody tr th {\n",
              "        vertical-align: top;\n",
              "    }\n",
              "\n",
              "    .dataframe thead th {\n",
              "        text-align: right;\n",
              "    }\n",
              "</style>\n",
              "<table border=\"1\" class=\"dataframe\">\n",
              "  <thead>\n",
              "    <tr style=\"text-align: right;\">\n",
              "      <th></th>\n",
              "      <th>label</th>\n",
              "      <th>pixel1</th>\n",
              "      <th>pixel2</th>\n",
              "      <th>pixel3</th>\n",
              "      <th>pixel4</th>\n",
              "      <th>pixel5</th>\n",
              "      <th>pixel6</th>\n",
              "      <th>pixel7</th>\n",
              "      <th>pixel8</th>\n",
              "      <th>pixel9</th>\n",
              "      <th>pixel10</th>\n",
              "      <th>pixel11</th>\n",
              "      <th>pixel12</th>\n",
              "      <th>pixel13</th>\n",
              "      <th>pixel14</th>\n",
              "      <th>pixel15</th>\n",
              "      <th>pixel16</th>\n",
              "      <th>pixel17</th>\n",
              "      <th>pixel18</th>\n",
              "      <th>pixel19</th>\n",
              "      <th>pixel20</th>\n",
              "      <th>pixel21</th>\n",
              "      <th>pixel22</th>\n",
              "      <th>pixel23</th>\n",
              "      <th>pixel24</th>\n",
              "      <th>pixel25</th>\n",
              "      <th>pixel26</th>\n",
              "      <th>pixel27</th>\n",
              "      <th>pixel28</th>\n",
              "      <th>pixel29</th>\n",
              "      <th>pixel30</th>\n",
              "      <th>pixel31</th>\n",
              "      <th>pixel32</th>\n",
              "      <th>pixel33</th>\n",
              "      <th>pixel34</th>\n",
              "      <th>pixel35</th>\n",
              "      <th>pixel36</th>\n",
              "      <th>pixel37</th>\n",
              "      <th>pixel38</th>\n",
              "      <th>pixel39</th>\n",
              "      <th>...</th>\n",
              "      <th>pixel745</th>\n",
              "      <th>pixel746</th>\n",
              "      <th>pixel747</th>\n",
              "      <th>pixel748</th>\n",
              "      <th>pixel749</th>\n",
              "      <th>pixel750</th>\n",
              "      <th>pixel751</th>\n",
              "      <th>pixel752</th>\n",
              "      <th>pixel753</th>\n",
              "      <th>pixel754</th>\n",
              "      <th>pixel755</th>\n",
              "      <th>pixel756</th>\n",
              "      <th>pixel757</th>\n",
              "      <th>pixel758</th>\n",
              "      <th>pixel759</th>\n",
              "      <th>pixel760</th>\n",
              "      <th>pixel761</th>\n",
              "      <th>pixel762</th>\n",
              "      <th>pixel763</th>\n",
              "      <th>pixel764</th>\n",
              "      <th>pixel765</th>\n",
              "      <th>pixel766</th>\n",
              "      <th>pixel767</th>\n",
              "      <th>pixel768</th>\n",
              "      <th>pixel769</th>\n",
              "      <th>pixel770</th>\n",
              "      <th>pixel771</th>\n",
              "      <th>pixel772</th>\n",
              "      <th>pixel773</th>\n",
              "      <th>pixel774</th>\n",
              "      <th>pixel775</th>\n",
              "      <th>pixel776</th>\n",
              "      <th>pixel777</th>\n",
              "      <th>pixel778</th>\n",
              "      <th>pixel779</th>\n",
              "      <th>pixel780</th>\n",
              "      <th>pixel781</th>\n",
              "      <th>pixel782</th>\n",
              "      <th>pixel783</th>\n",
              "      <th>pixel784</th>\n",
              "    </tr>\n",
              "  </thead>\n",
              "  <tbody>\n",
              "    <tr>\n",
              "      <th>0</th>\n",
              "      <td>0</td>\n",
              "      <td>0</td>\n",
              "      <td>0</td>\n",
              "      <td>0</td>\n",
              "      <td>0</td>\n",
              "      <td>0</td>\n",
              "      <td>0</td>\n",
              "      <td>0</td>\n",
              "      <td>9</td>\n",
              "      <td>8</td>\n",
              "      <td>0</td>\n",
              "      <td>0</td>\n",
              "      <td>34</td>\n",
              "      <td>29</td>\n",
              "      <td>7</td>\n",
              "      <td>0</td>\n",
              "      <td>11</td>\n",
              "      <td>24</td>\n",
              "      <td>0</td>\n",
              "      <td>0</td>\n",
              "      <td>3</td>\n",
              "      <td>3</td>\n",
              "      <td>1</td>\n",
              "      <td>0</td>\n",
              "      <td>1</td>\n",
              "      <td>1</td>\n",
              "      <td>0</td>\n",
              "      <td>0</td>\n",
              "      <td>0</td>\n",
              "      <td>0</td>\n",
              "      <td>0</td>\n",
              "      <td>4</td>\n",
              "      <td>0</td>\n",
              "      <td>0</td>\n",
              "      <td>1</td>\n",
              "      <td>0</td>\n",
              "      <td>0</td>\n",
              "      <td>0</td>\n",
              "      <td>0</td>\n",
              "      <td>0</td>\n",
              "      <td>...</td>\n",
              "      <td>242</td>\n",
              "      <td>245</td>\n",
              "      <td>224</td>\n",
              "      <td>245</td>\n",
              "      <td>234</td>\n",
              "      <td>0</td>\n",
              "      <td>3</td>\n",
              "      <td>0</td>\n",
              "      <td>0</td>\n",
              "      <td>0</td>\n",
              "      <td>0</td>\n",
              "      <td>0</td>\n",
              "      <td>0</td>\n",
              "      <td>0</td>\n",
              "      <td>0</td>\n",
              "      <td>0</td>\n",
              "      <td>0</td>\n",
              "      <td>0</td>\n",
              "      <td>0</td>\n",
              "      <td>37</td>\n",
              "      <td>69</td>\n",
              "      <td>94</td>\n",
              "      <td>123</td>\n",
              "      <td>127</td>\n",
              "      <td>138</td>\n",
              "      <td>138</td>\n",
              "      <td>142</td>\n",
              "      <td>145</td>\n",
              "      <td>135</td>\n",
              "      <td>125</td>\n",
              "      <td>103</td>\n",
              "      <td>87</td>\n",
              "      <td>56</td>\n",
              "      <td>0</td>\n",
              "      <td>0</td>\n",
              "      <td>0</td>\n",
              "      <td>0</td>\n",
              "      <td>0</td>\n",
              "      <td>0</td>\n",
              "      <td>0</td>\n",
              "    </tr>\n",
              "    <tr>\n",
              "      <th>1</th>\n",
              "      <td>1</td>\n",
              "      <td>0</td>\n",
              "      <td>0</td>\n",
              "      <td>0</td>\n",
              "      <td>0</td>\n",
              "      <td>0</td>\n",
              "      <td>0</td>\n",
              "      <td>0</td>\n",
              "      <td>0</td>\n",
              "      <td>0</td>\n",
              "      <td>0</td>\n",
              "      <td>0</td>\n",
              "      <td>209</td>\n",
              "      <td>190</td>\n",
              "      <td>181</td>\n",
              "      <td>150</td>\n",
              "      <td>170</td>\n",
              "      <td>193</td>\n",
              "      <td>180</td>\n",
              "      <td>219</td>\n",
              "      <td>5</td>\n",
              "      <td>0</td>\n",
              "      <td>0</td>\n",
              "      <td>0</td>\n",
              "      <td>0</td>\n",
              "      <td>0</td>\n",
              "      <td>0</td>\n",
              "      <td>0</td>\n",
              "      <td>0</td>\n",
              "      <td>0</td>\n",
              "      <td>0</td>\n",
              "      <td>0</td>\n",
              "      <td>0</td>\n",
              "      <td>0</td>\n",
              "      <td>0</td>\n",
              "      <td>0</td>\n",
              "      <td>0</td>\n",
              "      <td>0</td>\n",
              "      <td>0</td>\n",
              "      <td>24</td>\n",
              "      <td>...</td>\n",
              "      <td>248</td>\n",
              "      <td>238</td>\n",
              "      <td>80</td>\n",
              "      <td>0</td>\n",
              "      <td>0</td>\n",
              "      <td>0</td>\n",
              "      <td>0</td>\n",
              "      <td>0</td>\n",
              "      <td>0</td>\n",
              "      <td>0</td>\n",
              "      <td>0</td>\n",
              "      <td>0</td>\n",
              "      <td>0</td>\n",
              "      <td>0</td>\n",
              "      <td>0</td>\n",
              "      <td>0</td>\n",
              "      <td>0</td>\n",
              "      <td>0</td>\n",
              "      <td>0</td>\n",
              "      <td>0</td>\n",
              "      <td>0</td>\n",
              "      <td>0</td>\n",
              "      <td>0</td>\n",
              "      <td>174</td>\n",
              "      <td>233</td>\n",
              "      <td>155</td>\n",
              "      <td>0</td>\n",
              "      <td>65</td>\n",
              "      <td>235</td>\n",
              "      <td>216</td>\n",
              "      <td>34</td>\n",
              "      <td>0</td>\n",
              "      <td>0</td>\n",
              "      <td>0</td>\n",
              "      <td>0</td>\n",
              "      <td>0</td>\n",
              "      <td>0</td>\n",
              "      <td>0</td>\n",
              "      <td>0</td>\n",
              "      <td>0</td>\n",
              "    </tr>\n",
              "    <tr>\n",
              "      <th>2</th>\n",
              "      <td>2</td>\n",
              "      <td>0</td>\n",
              "      <td>0</td>\n",
              "      <td>0</td>\n",
              "      <td>0</td>\n",
              "      <td>0</td>\n",
              "      <td>0</td>\n",
              "      <td>14</td>\n",
              "      <td>53</td>\n",
              "      <td>99</td>\n",
              "      <td>17</td>\n",
              "      <td>0</td>\n",
              "      <td>0</td>\n",
              "      <td>0</td>\n",
              "      <td>0</td>\n",
              "      <td>0</td>\n",
              "      <td>0</td>\n",
              "      <td>0</td>\n",
              "      <td>0</td>\n",
              "      <td>12</td>\n",
              "      <td>94</td>\n",
              "      <td>68</td>\n",
              "      <td>14</td>\n",
              "      <td>0</td>\n",
              "      <td>0</td>\n",
              "      <td>0</td>\n",
              "      <td>0</td>\n",
              "      <td>0</td>\n",
              "      <td>0</td>\n",
              "      <td>0</td>\n",
              "      <td>0</td>\n",
              "      <td>0</td>\n",
              "      <td>0</td>\n",
              "      <td>0</td>\n",
              "      <td>38</td>\n",
              "      <td>106</td>\n",
              "      <td>94</td>\n",
              "      <td>89</td>\n",
              "      <td>94</td>\n",
              "      <td>68</td>\n",
              "      <td>...</td>\n",
              "      <td>0</td>\n",
              "      <td>0</td>\n",
              "      <td>0</td>\n",
              "      <td>0</td>\n",
              "      <td>0</td>\n",
              "      <td>0</td>\n",
              "      <td>87</td>\n",
              "      <td>12</td>\n",
              "      <td>26</td>\n",
              "      <td>0</td>\n",
              "      <td>0</td>\n",
              "      <td>0</td>\n",
              "      <td>0</td>\n",
              "      <td>0</td>\n",
              "      <td>0</td>\n",
              "      <td>0</td>\n",
              "      <td>46</td>\n",
              "      <td>50</td>\n",
              "      <td>29</td>\n",
              "      <td>0</td>\n",
              "      <td>2</td>\n",
              "      <td>0</td>\n",
              "      <td>0</td>\n",
              "      <td>0</td>\n",
              "      <td>0</td>\n",
              "      <td>0</td>\n",
              "      <td>0</td>\n",
              "      <td>0</td>\n",
              "      <td>0</td>\n",
              "      <td>0</td>\n",
              "      <td>0</td>\n",
              "      <td>0</td>\n",
              "      <td>0</td>\n",
              "      <td>0</td>\n",
              "      <td>63</td>\n",
              "      <td>53</td>\n",
              "      <td>31</td>\n",
              "      <td>0</td>\n",
              "      <td>0</td>\n",
              "      <td>0</td>\n",
              "    </tr>\n",
              "    <tr>\n",
              "      <th>3</th>\n",
              "      <td>2</td>\n",
              "      <td>0</td>\n",
              "      <td>0</td>\n",
              "      <td>0</td>\n",
              "      <td>0</td>\n",
              "      <td>0</td>\n",
              "      <td>0</td>\n",
              "      <td>0</td>\n",
              "      <td>0</td>\n",
              "      <td>0</td>\n",
              "      <td>161</td>\n",
              "      <td>212</td>\n",
              "      <td>138</td>\n",
              "      <td>150</td>\n",
              "      <td>169</td>\n",
              "      <td>164</td>\n",
              "      <td>176</td>\n",
              "      <td>202</td>\n",
              "      <td>255</td>\n",
              "      <td>183</td>\n",
              "      <td>26</td>\n",
              "      <td>0</td>\n",
              "      <td>0</td>\n",
              "      <td>0</td>\n",
              "      <td>0</td>\n",
              "      <td>0</td>\n",
              "      <td>0</td>\n",
              "      <td>0</td>\n",
              "      <td>0</td>\n",
              "      <td>0</td>\n",
              "      <td>0</td>\n",
              "      <td>0</td>\n",
              "      <td>1</td>\n",
              "      <td>0</td>\n",
              "      <td>0</td>\n",
              "      <td>129</td>\n",
              "      <td>221</td>\n",
              "      <td>255</td>\n",
              "      <td>255</td>\n",
              "      <td>215</td>\n",
              "      <td>...</td>\n",
              "      <td>255</td>\n",
              "      <td>255</td>\n",
              "      <td>254</td>\n",
              "      <td>252</td>\n",
              "      <td>255</td>\n",
              "      <td>101</td>\n",
              "      <td>196</td>\n",
              "      <td>254</td>\n",
              "      <td>252</td>\n",
              "      <td>100</td>\n",
              "      <td>0</td>\n",
              "      <td>0</td>\n",
              "      <td>0</td>\n",
              "      <td>0</td>\n",
              "      <td>0</td>\n",
              "      <td>168</td>\n",
              "      <td>232</td>\n",
              "      <td>225</td>\n",
              "      <td>0</td>\n",
              "      <td>41</td>\n",
              "      <td>172</td>\n",
              "      <td>147</td>\n",
              "      <td>148</td>\n",
              "      <td>153</td>\n",
              "      <td>155</td>\n",
              "      <td>146</td>\n",
              "      <td>137</td>\n",
              "      <td>141</td>\n",
              "      <td>143</td>\n",
              "      <td>137</td>\n",
              "      <td>137</td>\n",
              "      <td>126</td>\n",
              "      <td>140</td>\n",
              "      <td>0</td>\n",
              "      <td>133</td>\n",
              "      <td>224</td>\n",
              "      <td>222</td>\n",
              "      <td>56</td>\n",
              "      <td>0</td>\n",
              "      <td>0</td>\n",
              "    </tr>\n",
              "    <tr>\n",
              "      <th>4</th>\n",
              "      <td>3</td>\n",
              "      <td>0</td>\n",
              "      <td>0</td>\n",
              "      <td>0</td>\n",
              "      <td>0</td>\n",
              "      <td>0</td>\n",
              "      <td>0</td>\n",
              "      <td>0</td>\n",
              "      <td>0</td>\n",
              "      <td>0</td>\n",
              "      <td>0</td>\n",
              "      <td>37</td>\n",
              "      <td>0</td>\n",
              "      <td>0</td>\n",
              "      <td>0</td>\n",
              "      <td>0</td>\n",
              "      <td>0</td>\n",
              "      <td>0</td>\n",
              "      <td>17</td>\n",
              "      <td>0</td>\n",
              "      <td>0</td>\n",
              "      <td>0</td>\n",
              "      <td>0</td>\n",
              "      <td>0</td>\n",
              "      <td>0</td>\n",
              "      <td>0</td>\n",
              "      <td>0</td>\n",
              "      <td>0</td>\n",
              "      <td>0</td>\n",
              "      <td>0</td>\n",
              "      <td>0</td>\n",
              "      <td>0</td>\n",
              "      <td>0</td>\n",
              "      <td>0</td>\n",
              "      <td>0</td>\n",
              "      <td>0</td>\n",
              "      <td>0</td>\n",
              "      <td>21</td>\n",
              "      <td>204</td>\n",
              "      <td>235</td>\n",
              "      <td>...</td>\n",
              "      <td>0</td>\n",
              "      <td>2</td>\n",
              "      <td>0</td>\n",
              "      <td>0</td>\n",
              "      <td>0</td>\n",
              "      <td>0</td>\n",
              "      <td>0</td>\n",
              "      <td>0</td>\n",
              "      <td>0</td>\n",
              "      <td>0</td>\n",
              "      <td>0</td>\n",
              "      <td>0</td>\n",
              "      <td>0</td>\n",
              "      <td>0</td>\n",
              "      <td>0</td>\n",
              "      <td>0</td>\n",
              "      <td>0</td>\n",
              "      <td>0</td>\n",
              "      <td>0</td>\n",
              "      <td>0</td>\n",
              "      <td>0</td>\n",
              "      <td>0</td>\n",
              "      <td>0</td>\n",
              "      <td>0</td>\n",
              "      <td>1</td>\n",
              "      <td>0</td>\n",
              "      <td>2</td>\n",
              "      <td>69</td>\n",
              "      <td>0</td>\n",
              "      <td>2</td>\n",
              "      <td>0</td>\n",
              "      <td>0</td>\n",
              "      <td>0</td>\n",
              "      <td>0</td>\n",
              "      <td>0</td>\n",
              "      <td>0</td>\n",
              "      <td>0</td>\n",
              "      <td>0</td>\n",
              "      <td>0</td>\n",
              "      <td>0</td>\n",
              "    </tr>\n",
              "  </tbody>\n",
              "</table>\n",
              "<p>5 rows × 785 columns</p>\n",
              "</div>"
            ],
            "text/plain": [
              "   label  pixel1  pixel2  pixel3  ...  pixel781  pixel782  pixel783  pixel784\n",
              "0      0       0       0       0  ...         0         0         0         0\n",
              "1      1       0       0       0  ...         0         0         0         0\n",
              "2      2       0       0       0  ...        31         0         0         0\n",
              "3      2       0       0       0  ...       222        56         0         0\n",
              "4      3       0       0       0  ...         0         0         0         0\n",
              "\n",
              "[5 rows x 785 columns]"
            ]
          },
          "metadata": {
            "tags": []
          },
          "execution_count": 43
        }
      ]
    },
    {
      "cell_type": "markdown",
      "metadata": {
        "id": "6Snz1hfHCzSK"
      },
      "source": [
        "Storing the labels in a dictionary\n",
        "\n"
      ]
    },
    {
      "cell_type": "code",
      "metadata": {
        "id": "eczXWBB77r7N"
      },
      "source": [
        "classes = {0 : 'T-shirt/top',\n",
        "1 :  'Trouser',\n",
        "2 : 'Pullover',\n",
        "3 : 'Dress',\n",
        "4 : 'Coat',\n",
        "5 : 'Sandal',\n",
        "6 : 'Shirt',\n",
        "7 : 'Sneaker',\n",
        "8 : 'Bag',\n",
        "9 : 'Ankle boot'}"
      ],
      "execution_count": null,
      "outputs": []
    },
    {
      "cell_type": "markdown",
      "metadata": {
        "id": "NZKb6YsRC3yw"
      },
      "source": [
        "Let's map these classes to the training and test dataframes to visualize the distribution of different labels\n",
        "\n"
      ]
    },
    {
      "cell_type": "code",
      "metadata": {
        "colab": {
          "base_uri": "https://localhost:8080/",
          "height": 404
        },
        "id": "FM5PbevX7uEr",
        "outputId": "f5dca835-6b1c-47de-eab7-e809dfd2eb3f"
      },
      "source": [
        "train_df['label_names'] = train_df['label'].map(classes)\n",
        "\n",
        "plt.figure(figsize=(10,6))\n",
        "sns.countplot(x = 'label_names', data = train_df, facecolor=(0, 0, 0, 0),\n",
        "                   linewidth=5,\n",
        "                   edgecolor=sns.color_palette(\"dark\", 3))\n",
        "plt.xlabel('Class Names')\n",
        "plt.ylabel('Count')\n",
        "plt.title('Distribution of Training set images wrt classes')\n",
        "plt.show()"
      ],
      "execution_count": null,
      "outputs": [
        {
          "output_type": "display_data",
          "data": {
            "image/png": "[encoded data removed]",
            "text/plain": [
              "<Figure size 720x432 with 1 Axes>"
            ]
          },
          "metadata": {
            "tags": [],
            "needs_background": "light"
          }
        }
      ]
    },
    {
      "cell_type": "code",
      "metadata": {
        "colab": {
          "base_uri": "https://localhost:8080/",
          "height": 404
        },
        "id": "ASBe5uLQ7wcY",
        "outputId": "b6d357db-161a-497a-87ff-6477f19569ed"
      },
      "source": [
        "test_df['label_names'] = test_df['label'].map(classes)\n",
        "\n",
        "plt.figure(figsize=(10,6))\n",
        "sns.countplot(x = 'label_names', data = test_df, facecolor=(0, 0, 0, 0),\n",
        "                   linewidth=5,\n",
        "                   edgecolor=sns.color_palette(\"dark\", 3))\n",
        "plt.xlabel('Class Names')\n",
        "plt.ylabel('Count')\n",
        "plt.title('Distribution of Test set images wrt classes')\n",
        "plt.show()"
      ],
      "execution_count": null,
      "outputs": [
        {
          "output_type": "display_data",
          "data": {
            "image/png": "[encoded data removed]",
            "text/plain": [
              "<Figure size 720x432 with 1 Axes>"
            ]
          },
          "metadata": {
            "tags": [],
            "needs_background": "light"
          }
        }
      ]
    },
    {
      "cell_type": "markdown",
      "metadata": {
        "id": "aev3wWepC6-5"
      },
      "source": [
        "Let's see the shape of training and test set.\n",
        "\n"
      ]
    },
    {
      "cell_type": "code",
      "metadata": {
        "colab": {
          "base_uri": "https://localhost:8080/"
        },
        "id": "eQHFbJNr7yVf",
        "outputId": "c818e5ec-4d59-49ca-e846-a9d3255688db"
      },
      "source": [
        "train_df.shape"
      ],
      "execution_count": null,
      "outputs": [
        {
          "output_type": "execute_result",
          "data": {
            "text/plain": [
              "(60000, 786)"
            ]
          },
          "metadata": {
            "tags": []
          },
          "execution_count": 47
        }
      ]
    },
    {
      "cell_type": "code",
      "metadata": {
        "colab": {
          "base_uri": "https://localhost:8080/"
        },
        "id": "csbZrIJ07zyK",
        "outputId": "dbc8f6cb-310f-45c8-b53d-45a2b4aa8d6d"
      },
      "source": [
        "test_df.shape"
      ],
      "execution_count": null,
      "outputs": [
        {
          "output_type": "execute_result",
          "data": {
            "text/plain": [
              "(10000, 786)"
            ]
          },
          "metadata": {
            "tags": []
          },
          "execution_count": 48
        }
      ]
    },
    {
      "cell_type": "markdown",
      "metadata": {
        "id": "cslVoDgUC8vW"
      },
      "source": [
        "Let's prepare our data for preprocessing. First, we're going to divide training and test sets into features and labels.\n",
        "\n"
      ]
    },
    {
      "cell_type": "code",
      "metadata": {
        "id": "Axnlz3k471Dh"
      },
      "source": [
        "X_train = train_df.drop(['label', 'label_names'], axis = 1)\n",
        "y_train = train_df.label"
      ],
      "execution_count": null,
      "outputs": []
    },
    {
      "cell_type": "code",
      "metadata": {
        "id": "3HfFHESc73DJ"
      },
      "source": [
        "X_test = test_df.drop(['label', 'label_names'], axis = 1)\n",
        "y_test = test_df.label"
      ],
      "execution_count": null,
      "outputs": []
    },
    {
      "cell_type": "markdown",
      "metadata": {
        "id": "771ogk7dC_AY"
      },
      "source": [
        "Now we're going to reshape our images\n",
        "\n"
      ]
    },
    {
      "cell_type": "code",
      "metadata": {
        "id": "bZjqW9RW75gV"
      },
      "source": [
        "X_train = X_train.values.reshape(X_train.shape[0], 28, 28)\n",
        "X_test = X_test.values.reshape(X_test.shape[0], 28, 28)"
      ],
      "execution_count": null,
      "outputs": []
    },
    {
      "cell_type": "markdown",
      "metadata": {
        "id": "iQ0Tm3-pDCYm"
      },
      "source": [
        "Let's check the shapes again\n",
        "\n"
      ]
    },
    {
      "cell_type": "code",
      "metadata": {
        "colab": {
          "base_uri": "https://localhost:8080/"
        },
        "id": "XHckFMKH76rM",
        "outputId": "6df59f32-c855-449e-b157-9a2f2508e91a"
      },
      "source": [
        "X_train.shape\n"
      ],
      "execution_count": null,
      "outputs": [
        {
          "output_type": "execute_result",
          "data": {
            "text/plain": [
              "(60000, 28, 28)"
            ]
          },
          "metadata": {
            "tags": []
          },
          "execution_count": 52
        }
      ]
    },
    {
      "cell_type": "code",
      "metadata": {
        "colab": {
          "base_uri": "https://localhost:8080/"
        },
        "id": "Mu4hc0BS77WE",
        "outputId": "2befb2a5-63ea-4437-caa1-e4c5bafb4015"
      },
      "source": [
        "X_test.shape"
      ],
      "execution_count": null,
      "outputs": [
        {
          "output_type": "execute_result",
          "data": {
            "text/plain": [
              "(10000, 28, 28)"
            ]
          },
          "metadata": {
            "tags": []
          },
          "execution_count": 53
        }
      ]
    },
    {
      "cell_type": "markdown",
      "metadata": {
        "id": "wYPXi__sDFCP"
      },
      "source": [
        "Let's visualize a single image from our training set\n",
        "\n"
      ]
    },
    {
      "cell_type": "code",
      "metadata": {
        "colab": {
          "base_uri": "https://localhost:8080/",
          "height": 282
        },
        "id": "KytRPDxb79W9",
        "outputId": "bd37c7de-670e-4996-b3c1-fa0c043ca8f4"
      },
      "source": [
        "single_image = X_train[1]\n",
        "plt.imshow(single_image)"
      ],
      "execution_count": null,
      "outputs": [
        {
          "output_type": "execute_result",
          "data": {
            "text/plain": [
              "<matplotlib.image.AxesImage at 0x7f77c6e4fa58>"
            ]
          },
          "metadata": {
            "tags": []
          },
          "execution_count": 54
        },
        {
          "output_type": "display_data",
          "data": {
            "image/png": "[encoded data removed]",
            "text/plain": [
              "<Figure size 432x288 with 1 Axes>"
            ]
          },
          "metadata": {
            "tags": [],
            "needs_background": "light"
          }
        }
      ]
    },
    {
      "cell_type": "markdown",
      "metadata": {
        "id": "_DVzqvzSDHVh"
      },
      "source": [
        "This looks like an ankle boot to me. Let's check the labels to confirm it"
      ]
    },
    {
      "cell_type": "code",
      "metadata": {
        "colab": {
          "base_uri": "https://localhost:8080/"
        },
        "id": "w7hgdU9v8A-p",
        "outputId": "40defdd1-f3f5-4bab-f5cb-002dc9901d80"
      },
      "source": [
        "y_train"
      ],
      "execution_count": null,
      "outputs": [
        {
          "output_type": "execute_result",
          "data": {
            "text/plain": [
              "0        2\n",
              "1        9\n",
              "2        6\n",
              "3        0\n",
              "4        3\n",
              "        ..\n",
              "59995    9\n",
              "59996    1\n",
              "59997    8\n",
              "59998    8\n",
              "59999    7\n",
              "Name: label, Length: 60000, dtype: int64"
            ]
          },
          "metadata": {
            "tags": []
          },
          "execution_count": 55
        }
      ]
    },
    {
      "cell_type": "markdown",
      "metadata": {
        "id": "H1cmT1g8DM3u"
      },
      "source": [
        "Index 1 has 9 as a value which is the key of Ankle boot as per classes dictionary, so we stand correct\n",
        "\n",
        "OK, now back to data preprocessing. We're gonna convert our data from class vector to a binary matrix. So, we're gonna use Keras's to_categorical method to convert our labels into one-hot vectors."
      ]
    },
    {
      "cell_type": "code",
      "metadata": {
        "id": "QuX7K92B8EJT"
      },
      "source": [
        "y_cat_train = to_categorical(y_train, num_classes= 10)\n",
        "y_cat_test = to_categorical(y_test, num_classes= 10)"
      ],
      "execution_count": null,
      "outputs": []
    },
    {
      "cell_type": "markdown",
      "metadata": {
        "id": "UtzBrZeKDQr7"
      },
      "source": [
        "to_categorical takes number of classes on its own based on the label's unique values, here it was from 0 to 9, hence, it took 10. You can specify them too, like I did using num_classes\n",
        "\n",
        "Let's check a single example from our training set, how it looks like"
      ]
    },
    {
      "cell_type": "code",
      "metadata": {
        "colab": {
          "base_uri": "https://localhost:8080/"
        },
        "id": "V1uq_IGn8Ffx",
        "outputId": "b728f28b-f962-4d01-ba21-b88651459f0b"
      },
      "source": [
        "y_cat_train[0]\n"
      ],
      "execution_count": null,
      "outputs": [
        {
          "output_type": "execute_result",
          "data": {
            "text/plain": [
              "array([0., 0., 1., 0., 0., 0., 0., 0., 0., 0.], dtype=float32)"
            ]
          },
          "metadata": {
            "tags": []
          },
          "execution_count": 57
        }
      ]
    },
    {
      "cell_type": "markdown",
      "metadata": {
        "id": "d-7ceqpODUK8"
      },
      "source": [
        "Notice here, the first value of y_train was 2(check the cell below the ankle boot image), so to_categorical() has transformed that into an entire row. So, now at index no. 2, we have 1 and all the other values are 0.\n",
        "\n",
        "Now we're going to normalize our images. Right now the pixel values ranges from 0 to 255, where 255 represents the lighest colour cell and 0 represents the darkest colour cell. We're gonna convert them into the values from 0 to 1.\n",
        "\n",
        "I'm going to visualize that Ankle shoe image in the form of pixels now"
      ]
    },
    {
      "cell_type": "code",
      "metadata": {
        "id": "qwlS3Kcz8GlN"
      },
      "source": [
        "def plot_digit(digit, dem = 28, font_size = 12):\n",
        "    max_ax = font_size * dem\n",
        "    \n",
        "    fig = plt.figure(figsize=(13, 13))\n",
        "    plt.xlim([0, max_ax])\n",
        "    plt.ylim([0, max_ax])\n",
        "    plt.axis('off')\n",
        "    black = '#000000'\n",
        "    \n",
        "    for idx in range(dem):\n",
        "        for jdx in range(dem):\n",
        "\n",
        "            t = plt.text(idx * font_size, max_ax - jdx*font_size, digit[jdx][idx], fontsize = font_size, color = black)\n",
        "            c = digit[jdx][idx] / 255.\n",
        "            t.set_bbox(dict(facecolor=(c, c, c), alpha = 0.5, edgecolor = 'black'))\n",
        "            \n",
        "    plt.show()"
      ],
      "execution_count": null,
      "outputs": []
    },
    {
      "cell_type": "code",
      "metadata": {
        "colab": {
          "base_uri": "https://localhost:8080/",
          "height": 748
        },
        "id": "kKJACMAK8IpH",
        "outputId": "f08f2042-1bef-461e-fd9d-b0f686315a1b"
      },
      "source": [
        "plot_digit(X_train[1])"
      ],
      "execution_count": null,
      "outputs": [
        {
          "output_type": "display_data",
          "data": {
            "image/png": "[encoded data removed]",
            "text/plain": [
              "<Figure size 936x936 with 1 Axes>"
            ]
          },
          "metadata": {
            "tags": [],
            "needs_background": "light"
          }
        }
      ]
    },
    {
      "cell_type": "markdown",
      "metadata": {
        "id": "nHYEvtuCG2zl"
      },
      "source": [
        "We can normalize/scale the image by two methods, first one is using Scikit learn's MinMaxScaler function to scale the images and then fit_transform the training set and transform the test set and the other method is just dividing both training and test set features by 255.\n",
        "\n",
        "We're gonna use the second method"
      ]
    },
    {
      "cell_type": "code",
      "metadata": {
        "id": "y_wHWg7F8KJ6"
      },
      "source": [
        "X_train = X_train/255\n",
        "X_test = X_test/255"
      ],
      "execution_count": null,
      "outputs": []
    },
    {
      "cell_type": "markdown",
      "metadata": {
        "id": "mUoUZieXG1aP"
      },
      "source": [
        "Now we're gonna add a colour channel. Since the images are grey scale, we'll add 1 colour channel\n",
        "\n"
      ]
    },
    {
      "cell_type": "code",
      "metadata": {
        "id": "NefBSZ7E8Lx_"
      },
      "source": [
        "X_train = X_train.reshape(X_train.shape[0], 28, 28, 1)\n",
        "X_test = X_test.reshape(X_test.shape[0], 28, 28, 1)"
      ],
      "execution_count": null,
      "outputs": []
    },
    {
      "cell_type": "code",
      "metadata": {
        "colab": {
          "base_uri": "https://localhost:8080/"
        },
        "id": "G5s-VLAb8M0l",
        "outputId": "0abcb01b-0180-49c2-fe80-e9458fa716fa"
      },
      "source": [
        "X_train.shape"
      ],
      "execution_count": null,
      "outputs": [
        {
          "output_type": "execute_result",
          "data": {
            "text/plain": [
              "(60000, 28, 28, 1)"
            ]
          },
          "metadata": {
            "tags": []
          },
          "execution_count": 62
        }
      ]
    },
    {
      "cell_type": "code",
      "metadata": {
        "colab": {
          "base_uri": "https://localhost:8080/"
        },
        "id": "ZnCtXE3z8OYl",
        "outputId": "4b0deabe-7000-4aad-dd7c-1fb10b6c4575"
      },
      "source": [
        "X_test.shape"
      ],
      "execution_count": null,
      "outputs": [
        {
          "output_type": "execute_result",
          "data": {
            "text/plain": [
              "(10000, 28, 28, 1)"
            ]
          },
          "metadata": {
            "tags": []
          },
          "execution_count": 63
        }
      ]
    },
    {
      "cell_type": "markdown",
      "metadata": {
        "id": "DG8CXsMHGyjy"
      },
      "source": [
        "Now we're done with our image preprocessing step, let's divide our data into training and validation set. We're gonna set validation set size to 20%\n",
        "\n"
      ]
    },
    {
      "cell_type": "code",
      "metadata": {
        "id": "-SDlI4Ao8Pya"
      },
      "source": [
        "X_train, X_val, y_cat_train, y_val = train_test_split(X_train, y_cat_train, test_size=0.2, random_state=42)"
      ],
      "execution_count": null,
      "outputs": []
    },
    {
      "cell_type": "markdown",
      "metadata": {
        "id": "lgEhEwoEGxBt"
      },
      "source": [
        "Now let's structure our Convolutional Neural Network model which we will train\n",
        "\n"
      ]
    },
    {
      "cell_type": "code",
      "metadata": {
        "id": "GV0Wcioc8R6q"
      },
      "source": [
        "model = Sequential()\n",
        "\n",
        "model.add(Conv2D(filters = 32, kernel_size= (4,4), padding = 'same', input_shape = (28,28,1), activation= 'relu'))\n",
        "model.add(BatchNormalization())\n",
        "model.add(MaxPool2D(pool_size=(2,2)))\n",
        "model.add(Conv2D(filters = 64, kernel_size= (4,4), padding = 'same', input_shape = (28,28,1), activation= 'relu'))\n",
        "model.add(BatchNormalization())\n",
        "model.add(MaxPool2D(pool_size=(2,2)))\n",
        "model.add(Dropout(rate = 0.3))\n",
        "model.add(BatchNormalization())\n",
        "model.add(Conv2D(filters = 128, kernel_size= (4,4), padding = 'same', input_shape = (28,28,1), activation= 'relu'))\n",
        "model.add(Conv2D(filters = 128, kernel_size= (4,4), padding = 'same', input_shape = (28,28,1), activation= 'relu'))\n",
        "model.add(Dropout(rate = 0.3))\n",
        "model.add(BatchNormalization())\n",
        "model.add(MaxPool2D(pool_size=(2,2)))\n",
        "model.add(BatchNormalization())\n",
        "model.add(Dropout(rate = 0.3))\n",
        "model.add(Flatten())\n",
        "model.add(Dense(128, activation='relu'))\n",
        "model.add(Dropout(rate = 0.3))\n",
        "model.add(Dense(10, activation='softmax'))\n",
        "\n",
        "opt = Adam(lr=0.001, beta_1=0.9, beta_2=0.999, epsilon=None, decay=0.0, amsgrad=False)\n",
        "\n",
        "model.compile(optimizer = opt, loss = 'categorical_crossentropy', metrics = ['accuracy'])"
      ],
      "execution_count": null,
      "outputs": []
    },
    {
      "cell_type": "markdown",
      "metadata": {
        "id": "_MS4VPylGtZD"
      },
      "source": [
        "filters:- how many filters to apply on an image\n",
        "\n",
        "kernel_size:- size of the matrix which strides through the whole image\n",
        "\n",
        "stride:- (x,y) steps while moving the kernel\n",
        "\n",
        "padding:- Padding is the extra layer we add to the corner of the image to prevent shrinkage and loss of info, such as add a padding of 0 on the outside of the image matrix, so that the corner matrix is also covered more than once while striding.\n",
        "\n",
        "flatten:- flattens our layer, eg, our image is 28x28 so the flattened image will be 28*28=784 pixels.\n",
        "\n",
        "dropout:- It is a regularization technique which shuts off neurons randomly at each epoch to prevent overfitting.Here we've set rate to 0.3, so it means that 30% of neurons will be shut off randomly while training at each epoch.\n",
        "\n",
        "batch normalization:- this technique makes neural networks faster and more stable through normalization of the input layer by re-centering and re-scaling.\n",
        "\n",
        "Adam:- Adam is an optimizer used to change the attributes of your neural network such as weights and learning rate in order to reduce the losses.\n",
        "\n"
      ]
    },
    {
      "cell_type": "code",
      "metadata": {
        "colab": {
          "base_uri": "https://localhost:8080/"
        },
        "id": "TgaiVpRK8Zm3",
        "outputId": "cba647ab-c8c0-44f6-8689-7b6c3f5523d4"
      },
      "source": [
        "model.summary()\n"
      ],
      "execution_count": null,
      "outputs": [
        {
          "output_type": "stream",
          "text": [
            "Model: \"sequential_1\"\n",
            "_________________________________________________________________\n",
            "Layer (type)                 Output Shape              Param #   \n",
            "=================================================================\n",
            "conv2d_4 (Conv2D)            (None, 28, 28, 32)        544       \n",
            "_________________________________________________________________\n",
            "batch_normalization_5 (Batch (None, 28, 28, 32)        128       \n",
            "_________________________________________________________________\n",
            "max_pooling2d_3 (MaxPooling2 (None, 14, 14, 32)        0         \n",
            "_________________________________________________________________\n",
            "conv2d_5 (Conv2D)            (None, 14, 14, 64)        32832     \n",
            "_________________________________________________________________\n",
            "batch_normalization_6 (Batch (None, 14, 14, 64)        256       \n",
            "_________________________________________________________________\n",
            "max_pooling2d_4 (MaxPooling2 (None, 7, 7, 64)          0         \n",
            "_________________________________________________________________\n",
            "dropout_4 (Dropout)          (None, 7, 7, 64)          0         \n",
            "_________________________________________________________________\n",
            "batch_normalization_7 (Batch (None, 7, 7, 64)          256       \n",
            "_________________________________________________________________\n",
            "conv2d_6 (Conv2D)            (None, 7, 7, 128)         131200    \n",
            "_________________________________________________________________\n",
            "conv2d_7 (Conv2D)            (None, 7, 7, 128)         262272    \n",
            "_________________________________________________________________\n",
            "dropout_5 (Dropout)          (None, 7, 7, 128)         0         \n",
            "_________________________________________________________________\n",
            "batch_normalization_8 (Batch (None, 7, 7, 128)         512       \n",
            "_________________________________________________________________\n",
            "max_pooling2d_5 (MaxPooling2 (None, 3, 3, 128)         0         \n",
            "_________________________________________________________________\n",
            "batch_normalization_9 (Batch (None, 3, 3, 128)         512       \n",
            "_________________________________________________________________\n",
            "dropout_6 (Dropout)          (None, 3, 3, 128)         0         \n",
            "_________________________________________________________________\n",
            "flatten_1 (Flatten)          (None, 1152)              0         \n",
            "_________________________________________________________________\n",
            "dense_2 (Dense)              (None, 128)               147584    \n",
            "_________________________________________________________________\n",
            "dropout_7 (Dropout)          (None, 128)               0         \n",
            "_________________________________________________________________\n",
            "dense_3 (Dense)              (None, 10)                1290      \n",
            "=================================================================\n",
            "Total params: 577,386\n",
            "Trainable params: 576,554\n",
            "Non-trainable params: 832\n",
            "_________________________________________________________________\n"
          ],
          "name": "stdout"
        }
      ]
    },
    {
      "cell_type": "markdown",
      "metadata": {
        "id": "3AxRNygLGqiZ"
      },
      "source": [
        "Visualizing the network\n",
        "\n"
      ]
    },
    {
      "cell_type": "code",
      "metadata": {
        "colab": {
          "base_uri": "https://localhost:8080/",
          "height": 167
        },
        "id": "bZEPbtVQ8a6t",
        "outputId": "08010af0-0692-4801-c583-a5aa8642de99"
      },
      "source": [
        "visualkeras.layered_view(model)\n"
      ],
      "execution_count": null,
      "outputs": [
        {
          "output_type": "execute_result",
          "data": {
            "image/png": "[encoded data removed]",
            "text/plain": [
              "<PIL.Image.Image image mode=RGBA size=698x150 at 0x7F77B027EA20>"
            ]
          },
          "metadata": {
            "tags": []
          },
          "execution_count": 67
        }
      ]
    },
    {
      "cell_type": "markdown",
      "metadata": {
        "id": "P5tpcfDGGm_o"
      },
      "source": [
        "Using Early Stopping to monitor the validation loss and stop the training when the loss begins to increase. Patience let's us set the number of epochs after which the training should be stopped in case of validation loss. We're setting it at 18."
      ]
    },
    {
      "cell_type": "code",
      "metadata": {
        "id": "T2HZgP9j8cLa"
      },
      "source": [
        "early_stop = EarlyStopping(monitor = 'val_loss', patience = 18)\n"
      ],
      "execution_count": null,
      "outputs": []
    },
    {
      "cell_type": "code",
      "metadata": {
        "colab": {
          "base_uri": "https://localhost:8080/"
        },
        "id": "NgVVKfGt8dpb",
        "outputId": "71b00f92-a87c-4bbe-8fa0-2d9979eeb199"
      },
      "source": [
        "model.fit(x = X_train, y = y_cat_train, batch_size = 128, epochs = 100, validation_data = (X_val, y_val), \n",
        "         callbacks = [early_stop])"
      ],
      "execution_count": null,
      "outputs": [
        {
          "output_type": "stream",
          "text": [
            "Epoch 1/100\n",
            "375/375 [==============================] - 5s 14ms/step - loss: 0.0888 - accuracy: 0.9670 - val_loss: 0.2496 - val_accuracy: 0.9252\n",
            "Epoch 2/100\n",
            "375/375 [==============================] - 5s 13ms/step - loss: 0.0869 - accuracy: 0.9680 - val_loss: 0.2485 - val_accuracy: 0.9268\n",
            "Epoch 3/100\n",
            "375/375 [==============================] - 5s 13ms/step - loss: 0.0830 - accuracy: 0.9687 - val_loss: 0.2561 - val_accuracy: 0.9256\n",
            "Epoch 4/100\n",
            "375/375 [==============================] - 5s 14ms/step - loss: 0.0828 - accuracy: 0.9693 - val_loss: 0.2440 - val_accuracy: 0.9282\n",
            "Epoch 5/100\n",
            "375/375 [==============================] - 5s 14ms/step - loss: 0.0822 - accuracy: 0.9689 - val_loss: 0.2568 - val_accuracy: 0.9255\n",
            "Epoch 6/100\n",
            "375/375 [==============================] - 5s 14ms/step - loss: 0.0812 - accuracy: 0.9702 - val_loss: 0.2820 - val_accuracy: 0.9207\n",
            "Epoch 7/100\n",
            "375/375 [==============================] - 5s 13ms/step - loss: 0.0787 - accuracy: 0.9701 - val_loss: 0.2749 - val_accuracy: 0.9230\n",
            "Epoch 8/100\n",
            "375/375 [==============================] - 5s 13ms/step - loss: 0.0767 - accuracy: 0.9713 - val_loss: 0.2563 - val_accuracy: 0.9248\n",
            "Epoch 9/100\n",
            "375/375 [==============================] - 5s 13ms/step - loss: 0.0747 - accuracy: 0.9719 - val_loss: 0.2702 - val_accuracy: 0.9249\n",
            "Epoch 10/100\n",
            "375/375 [==============================] - 5s 13ms/step - loss: 0.0775 - accuracy: 0.9719 - val_loss: 0.2711 - val_accuracy: 0.9237\n",
            "Epoch 11/100\n",
            "375/375 [==============================] - 5s 13ms/step - loss: 0.0740 - accuracy: 0.9723 - val_loss: 0.2518 - val_accuracy: 0.9300\n",
            "Epoch 12/100\n",
            "375/375 [==============================] - 5s 13ms/step - loss: 0.0699 - accuracy: 0.9737 - val_loss: 0.2953 - val_accuracy: 0.9187\n",
            "Epoch 13/100\n",
            "375/375 [==============================] - 5s 13ms/step - loss: 0.0711 - accuracy: 0.9728 - val_loss: 0.2525 - val_accuracy: 0.9295\n",
            "Epoch 14/100\n",
            "375/375 [==============================] - 5s 13ms/step - loss: 0.0686 - accuracy: 0.9747 - val_loss: 0.2689 - val_accuracy: 0.9273\n",
            "Epoch 15/100\n",
            "375/375 [==============================] - 5s 13ms/step - loss: 0.0670 - accuracy: 0.9758 - val_loss: 0.3381 - val_accuracy: 0.9111\n",
            "Epoch 16/100\n",
            "375/375 [==============================] - 5s 13ms/step - loss: 0.0663 - accuracy: 0.9756 - val_loss: 0.2604 - val_accuracy: 0.9262\n",
            "Epoch 17/100\n",
            "375/375 [==============================] - 5s 13ms/step - loss: 0.0623 - accuracy: 0.9767 - val_loss: 0.2811 - val_accuracy: 0.9266\n",
            "Epoch 18/100\n",
            "375/375 [==============================] - 5s 13ms/step - loss: 0.0643 - accuracy: 0.9760 - val_loss: 0.2683 - val_accuracy: 0.9303\n",
            "Epoch 19/100\n",
            "375/375 [==============================] - 5s 13ms/step - loss: 0.0601 - accuracy: 0.9774 - val_loss: 0.2667 - val_accuracy: 0.9312\n",
            "Epoch 20/100\n",
            "375/375 [==============================] - 5s 13ms/step - loss: 0.0611 - accuracy: 0.9774 - val_loss: 0.3446 - val_accuracy: 0.9123\n",
            "Epoch 21/100\n",
            "375/375 [==============================] - 5s 13ms/step - loss: 0.0622 - accuracy: 0.9767 - val_loss: 0.2731 - val_accuracy: 0.9308\n",
            "Epoch 22/100\n",
            "375/375 [==============================] - 5s 13ms/step - loss: 0.0629 - accuracy: 0.9772 - val_loss: 0.2786 - val_accuracy: 0.9219\n",
            "Epoch 23/100\n",
            "375/375 [==============================] - 5s 13ms/step - loss: 0.0564 - accuracy: 0.9789 - val_loss: 0.2628 - val_accuracy: 0.9304\n",
            "Epoch 24/100\n",
            "375/375 [==============================] - 5s 13ms/step - loss: 0.0554 - accuracy: 0.9796 - val_loss: 0.2973 - val_accuracy: 0.9238\n",
            "Epoch 25/100\n",
            "375/375 [==============================] - 5s 13ms/step - loss: 0.0589 - accuracy: 0.9790 - val_loss: 0.2587 - val_accuracy: 0.9298\n",
            "Epoch 26/100\n",
            "375/375 [==============================] - 5s 13ms/step - loss: 0.0555 - accuracy: 0.9790 - val_loss: 0.2815 - val_accuracy: 0.9273\n",
            "Epoch 27/100\n",
            "375/375 [==============================] - 5s 13ms/step - loss: 0.0540 - accuracy: 0.9799 - val_loss: 0.2993 - val_accuracy: 0.9227\n",
            "Epoch 28/100\n",
            "375/375 [==============================] - 5s 13ms/step - loss: 0.0557 - accuracy: 0.9792 - val_loss: 0.2897 - val_accuracy: 0.9317\n",
            "Epoch 29/100\n",
            "375/375 [==============================] - 5s 13ms/step - loss: 0.0515 - accuracy: 0.9811 - val_loss: 0.2767 - val_accuracy: 0.9291\n",
            "Epoch 30/100\n",
            "375/375 [==============================] - 5s 13ms/step - loss: 0.0502 - accuracy: 0.9818 - val_loss: 0.3148 - val_accuracy: 0.9273\n",
            "Epoch 31/100\n",
            "375/375 [==============================] - 5s 13ms/step - loss: 0.0505 - accuracy: 0.9814 - val_loss: 0.3241 - val_accuracy: 0.9247\n",
            "Epoch 32/100\n",
            "375/375 [==============================] - 5s 13ms/step - loss: 0.0511 - accuracy: 0.9806 - val_loss: 0.3084 - val_accuracy: 0.9337\n",
            "Epoch 33/100\n",
            "375/375 [==============================] - 5s 13ms/step - loss: 0.0499 - accuracy: 0.9811 - val_loss: 0.2965 - val_accuracy: 0.9323\n",
            "Epoch 34/100\n",
            "375/375 [==============================] - 5s 14ms/step - loss: 0.0520 - accuracy: 0.9808 - val_loss: 0.2769 - val_accuracy: 0.9283\n",
            "Epoch 35/100\n",
            "375/375 [==============================] - 5s 13ms/step - loss: 0.0482 - accuracy: 0.9832 - val_loss: 0.2906 - val_accuracy: 0.9296\n",
            "Epoch 36/100\n",
            "375/375 [==============================] - 5s 13ms/step - loss: 0.0499 - accuracy: 0.9822 - val_loss: 0.2920 - val_accuracy: 0.9317\n",
            "Epoch 37/100\n",
            "375/375 [==============================] - 5s 13ms/step - loss: 0.0493 - accuracy: 0.9821 - val_loss: 0.3124 - val_accuracy: 0.9237\n",
            "Epoch 38/100\n",
            "375/375 [==============================] - 5s 13ms/step - loss: 0.0460 - accuracy: 0.9831 - val_loss: 0.3182 - val_accuracy: 0.9302\n",
            "Epoch 39/100\n",
            "375/375 [==============================] - 5s 13ms/step - loss: 0.0455 - accuracy: 0.9840 - val_loss: 0.3265 - val_accuracy: 0.9235\n",
            "Epoch 40/100\n",
            "375/375 [==============================] - 5s 13ms/step - loss: 0.0445 - accuracy: 0.9839 - val_loss: 0.3251 - val_accuracy: 0.9298\n",
            "Epoch 41/100\n",
            "375/375 [==============================] - 5s 13ms/step - loss: 0.0446 - accuracy: 0.9836 - val_loss: 0.3012 - val_accuracy: 0.9276\n",
            "Epoch 42/100\n",
            "375/375 [==============================] - 5s 13ms/step - loss: 0.0456 - accuracy: 0.9835 - val_loss: 0.3138 - val_accuracy: 0.9296\n",
            "Epoch 43/100\n",
            "375/375 [==============================] - 5s 13ms/step - loss: 0.0426 - accuracy: 0.9844 - val_loss: 0.2832 - val_accuracy: 0.9310\n",
            "Epoch 44/100\n",
            "375/375 [==============================] - 5s 13ms/step - loss: 0.0418 - accuracy: 0.9852 - val_loss: 0.3151 - val_accuracy: 0.9320\n",
            "Epoch 45/100\n",
            "375/375 [==============================] - 5s 13ms/step - loss: 0.0409 - accuracy: 0.9852 - val_loss: 0.3154 - val_accuracy: 0.9305\n",
            "Epoch 46/100\n",
            "375/375 [==============================] - 5s 13ms/step - loss: 0.0408 - accuracy: 0.9854 - val_loss: 0.2971 - val_accuracy: 0.9308\n",
            "Epoch 47/100\n",
            "375/375 [==============================] - 5s 13ms/step - loss: 0.0387 - accuracy: 0.9863 - val_loss: 0.3254 - val_accuracy: 0.9287\n",
            "Epoch 48/100\n",
            "375/375 [==============================] - 5s 13ms/step - loss: 0.0425 - accuracy: 0.9849 - val_loss: 0.4056 - val_accuracy: 0.9118\n",
            "Epoch 49/100\n",
            "375/375 [==============================] - 5s 13ms/step - loss: 0.0411 - accuracy: 0.9851 - val_loss: 0.3305 - val_accuracy: 0.9236\n",
            "Epoch 50/100\n",
            "375/375 [==============================] - 5s 13ms/step - loss: 0.0398 - accuracy: 0.9860 - val_loss: 0.3094 - val_accuracy: 0.9317\n",
            "Epoch 51/100\n",
            "375/375 [==============================] - 5s 13ms/step - loss: 0.0430 - accuracy: 0.9850 - val_loss: 0.3024 - val_accuracy: 0.9266\n",
            "Epoch 52/100\n",
            "375/375 [==============================] - 5s 13ms/step - loss: 0.0386 - accuracy: 0.9859 - val_loss: 0.3154 - val_accuracy: 0.9307\n",
            "Epoch 53/100\n",
            "375/375 [==============================] - 5s 13ms/step - loss: 0.0413 - accuracy: 0.9851 - val_loss: 0.3297 - val_accuracy: 0.9298\n",
            "Epoch 54/100\n",
            "375/375 [==============================] - 5s 13ms/step - loss: 0.0386 - accuracy: 0.9859 - val_loss: 0.3105 - val_accuracy: 0.9325\n",
            "Epoch 55/100\n",
            "375/375 [==============================] - 5s 13ms/step - loss: 0.0381 - accuracy: 0.9864 - val_loss: 0.3141 - val_accuracy: 0.9346\n",
            "Epoch 56/100\n",
            "375/375 [==============================] - 5s 13ms/step - loss: 0.0382 - accuracy: 0.9866 - val_loss: 0.3168 - val_accuracy: 0.9315\n",
            "Epoch 57/100\n",
            "375/375 [==============================] - 5s 13ms/step - loss: 0.0361 - accuracy: 0.9874 - val_loss: 0.3189 - val_accuracy: 0.9311\n",
            "Epoch 58/100\n",
            "375/375 [==============================] - 5s 13ms/step - loss: 0.0356 - accuracy: 0.9870 - val_loss: 0.3271 - val_accuracy: 0.9323\n",
            "Epoch 59/100\n",
            "375/375 [==============================] - 5s 13ms/step - loss: 0.0337 - accuracy: 0.9883 - val_loss: 0.3176 - val_accuracy: 0.9327\n",
            "Epoch 60/100\n",
            "375/375 [==============================] - 5s 13ms/step - loss: 0.0356 - accuracy: 0.9872 - val_loss: 0.3263 - val_accuracy: 0.9318\n",
            "Epoch 61/100\n",
            "375/375 [==============================] - 5s 13ms/step - loss: 0.0339 - accuracy: 0.9883 - val_loss: 0.3276 - val_accuracy: 0.9269\n",
            "Epoch 62/100\n",
            "375/375 [==============================] - 5s 14ms/step - loss: 0.0354 - accuracy: 0.9875 - val_loss: 0.3130 - val_accuracy: 0.9287\n",
            "Epoch 63/100\n",
            "375/375 [==============================] - 5s 13ms/step - loss: 0.0342 - accuracy: 0.9875 - val_loss: 0.3542 - val_accuracy: 0.9244\n",
            "Epoch 64/100\n",
            "375/375 [==============================] - 5s 13ms/step - loss: 0.0368 - accuracy: 0.9870 - val_loss: 0.3223 - val_accuracy: 0.9302\n",
            "Epoch 65/100\n",
            "375/375 [==============================] - 5s 13ms/step - loss: 0.0343 - accuracy: 0.9886 - val_loss: 0.3755 - val_accuracy: 0.9153\n",
            "Epoch 66/100\n",
            "375/375 [==============================] - 5s 13ms/step - loss: 0.0375 - accuracy: 0.9868 - val_loss: 0.3437 - val_accuracy: 0.9307\n",
            "Epoch 67/100\n",
            "375/375 [==============================] - 5s 13ms/step - loss: 0.0363 - accuracy: 0.9874 - val_loss: 0.3228 - val_accuracy: 0.9298\n",
            "Epoch 68/100\n",
            "375/375 [==============================] - 5s 13ms/step - loss: 0.0346 - accuracy: 0.9879 - val_loss: 0.3050 - val_accuracy: 0.9284\n",
            "Epoch 69/100\n",
            "375/375 [==============================] - 5s 13ms/step - loss: 0.0327 - accuracy: 0.9882 - val_loss: 0.3469 - val_accuracy: 0.9262\n",
            "Epoch 70/100\n",
            "375/375 [==============================] - 5s 13ms/step - loss: 0.0307 - accuracy: 0.9894 - val_loss: 0.3395 - val_accuracy: 0.9297\n",
            "Epoch 71/100\n",
            "375/375 [==============================] - 5s 13ms/step - loss: 0.0333 - accuracy: 0.9885 - val_loss: 0.3332 - val_accuracy: 0.9358\n",
            "Epoch 72/100\n",
            "375/375 [==============================] - 5s 13ms/step - loss: 0.0315 - accuracy: 0.9891 - val_loss: 0.3246 - val_accuracy: 0.9342\n",
            "Epoch 73/100\n",
            "375/375 [==============================] - 5s 14ms/step - loss: 0.0325 - accuracy: 0.9889 - val_loss: 0.3451 - val_accuracy: 0.9298\n",
            "Epoch 74/100\n",
            "375/375 [==============================] - 5s 13ms/step - loss: 0.0307 - accuracy: 0.9894 - val_loss: 0.3442 - val_accuracy: 0.9302\n",
            "Epoch 75/100\n",
            "375/375 [==============================] - 5s 13ms/step - loss: 0.0312 - accuracy: 0.9891 - val_loss: 0.3271 - val_accuracy: 0.9299\n",
            "Epoch 76/100\n",
            "375/375 [==============================] - 5s 13ms/step - loss: 0.0288 - accuracy: 0.9901 - val_loss: 0.3313 - val_accuracy: 0.9326\n",
            "Epoch 77/100\n",
            "375/375 [==============================] - 5s 13ms/step - loss: 0.0293 - accuracy: 0.9899 - val_loss: 0.3356 - val_accuracy: 0.9303\n",
            "Epoch 78/100\n",
            "375/375 [==============================] - 5s 13ms/step - loss: 0.0316 - accuracy: 0.9893 - val_loss: 0.3468 - val_accuracy: 0.9293\n",
            "Epoch 79/100\n",
            "375/375 [==============================] - 5s 13ms/step - loss: 0.0302 - accuracy: 0.9898 - val_loss: 0.3347 - val_accuracy: 0.9305\n",
            "Epoch 80/100\n",
            "375/375 [==============================] - 5s 14ms/step - loss: 0.0332 - accuracy: 0.9877 - val_loss: 0.3281 - val_accuracy: 0.9337\n",
            "Epoch 81/100\n",
            "375/375 [==============================] - 5s 13ms/step - loss: 0.0296 - accuracy: 0.9898 - val_loss: 0.3544 - val_accuracy: 0.9298\n",
            "Epoch 82/100\n",
            "375/375 [==============================] - 5s 13ms/step - loss: 0.0323 - accuracy: 0.9887 - val_loss: 0.3375 - val_accuracy: 0.9257\n",
            "Epoch 83/100\n",
            "375/375 [==============================] - 5s 13ms/step - loss: 0.0311 - accuracy: 0.9889 - val_loss: 0.3212 - val_accuracy: 0.9294\n",
            "Epoch 84/100\n",
            "375/375 [==============================] - 5s 13ms/step - loss: 0.0290 - accuracy: 0.9896 - val_loss: 0.3820 - val_accuracy: 0.9242\n",
            "Epoch 85/100\n",
            "375/375 [==============================] - 5s 13ms/step - loss: 0.0291 - accuracy: 0.9893 - val_loss: 0.3466 - val_accuracy: 0.9302\n",
            "Epoch 86/100\n",
            "375/375 [==============================] - 5s 13ms/step - loss: 0.0284 - accuracy: 0.9902 - val_loss: 0.3364 - val_accuracy: 0.9313\n",
            "Epoch 87/100\n",
            "375/375 [==============================] - 5s 13ms/step - loss: 0.0286 - accuracy: 0.9895 - val_loss: 0.3930 - val_accuracy: 0.9247\n",
            "Epoch 88/100\n",
            "375/375 [==============================] - 5s 13ms/step - loss: 0.0276 - accuracy: 0.9899 - val_loss: 0.3397 - val_accuracy: 0.9299\n",
            "Epoch 89/100\n",
            "375/375 [==============================] - 5s 13ms/step - loss: 0.0270 - accuracy: 0.9905 - val_loss: 0.3532 - val_accuracy: 0.9322\n",
            "Epoch 90/100\n",
            "375/375 [==============================] - 5s 13ms/step - loss: 0.0287 - accuracy: 0.9899 - val_loss: 0.3555 - val_accuracy: 0.9242\n",
            "Epoch 91/100\n",
            "375/375 [==============================] - 5s 13ms/step - loss: 0.0277 - accuracy: 0.9909 - val_loss: 0.3652 - val_accuracy: 0.9304\n",
            "Epoch 92/100\n",
            "375/375 [==============================] - 5s 13ms/step - loss: 0.0269 - accuracy: 0.9909 - val_loss: 0.3618 - val_accuracy: 0.9270\n",
            "Epoch 93/100\n",
            "375/375 [==============================] - 5s 13ms/step - loss: 0.0291 - accuracy: 0.9903 - val_loss: 0.3310 - val_accuracy: 0.9314\n",
            "Epoch 94/100\n",
            "375/375 [==============================] - 5s 13ms/step - loss: 0.0258 - accuracy: 0.9908 - val_loss: 0.3397 - val_accuracy: 0.9302\n",
            "Epoch 95/100\n",
            "375/375 [==============================] - 5s 13ms/step - loss: 0.0234 - accuracy: 0.9921 - val_loss: 0.3871 - val_accuracy: 0.9278\n",
            "Epoch 96/100\n",
            "375/375 [==============================] - 5s 13ms/step - loss: 0.0262 - accuracy: 0.9906 - val_loss: 0.3338 - val_accuracy: 0.9331\n",
            "Epoch 97/100\n",
            "375/375 [==============================] - 5s 14ms/step - loss: 0.0263 - accuracy: 0.9907 - val_loss: 0.3702 - val_accuracy: 0.9301\n",
            "Epoch 98/100\n",
            "375/375 [==============================] - 5s 14ms/step - loss: 0.0262 - accuracy: 0.9905 - val_loss: 0.3508 - val_accuracy: 0.9330\n",
            "Epoch 99/100\n",
            "375/375 [==============================] - 5s 13ms/step - loss: 0.0251 - accuracy: 0.9915 - val_loss: 0.3694 - val_accuracy: 0.9317\n",
            "Epoch 100/100\n",
            "375/375 [==============================] - 5s 13ms/step - loss: 0.0276 - accuracy: 0.9901 - val_loss: 0.4489 - val_accuracy: 0.9163\n"
          ],
          "name": "stdout"
        },
        {
          "output_type": "execute_result",
          "data": {
            "text/plain": [
              "<tensorflow.python.keras.callbacks.History at 0x7f771b05d208>"
            ]
          },
          "metadata": {
            "tags": []
          },
          "execution_count": 84
        }
      ]
    },
    {
      "cell_type": "code",
      "metadata": {
        "id": "sY102TNo8fK1"
      },
      "source": [
        "metrics = pd.DataFrame(model.history.history)\n"
      ],
      "execution_count": null,
      "outputs": []
    },
    {
      "cell_type": "code",
      "metadata": {
        "colab": {
          "base_uri": "https://localhost:8080/",
          "height": 204
        },
        "id": "-kPSX_rL8gAe",
        "outputId": "d458418d-fdb0-49d8-e2c6-de77936e6194"
      },
      "source": [
        "metrics.head()\n"
      ],
      "execution_count": null,
      "outputs": [
        {
          "output_type": "execute_result",
          "data": {
            "text/html": [
              "<div>\n",
              "<style scoped>\n",
              "    .dataframe tbody tr th:only-of-type {\n",
              "        vertical-align: middle;\n",
              "    }\n",
              "\n",
              "    .dataframe tbody tr th {\n",
              "        vertical-align: top;\n",
              "    }\n",
              "\n",
              "    .dataframe thead th {\n",
              "        text-align: right;\n",
              "    }\n",
              "</style>\n",
              "<table border=\"1\" class=\"dataframe\">\n",
              "  <thead>\n",
              "    <tr style=\"text-align: right;\">\n",
              "      <th></th>\n",
              "      <th>loss</th>\n",
              "      <th>accuracy</th>\n",
              "      <th>val_loss</th>\n",
              "      <th>val_accuracy</th>\n",
              "    </tr>\n",
              "  </thead>\n",
              "  <tbody>\n",
              "    <tr>\n",
              "      <th>0</th>\n",
              "      <td>0.553630</td>\n",
              "      <td>0.799521</td>\n",
              "      <td>1.577726</td>\n",
              "      <td>0.530667</td>\n",
              "    </tr>\n",
              "    <tr>\n",
              "      <th>1</th>\n",
              "      <td>0.351147</td>\n",
              "      <td>0.872958</td>\n",
              "      <td>0.313563</td>\n",
              "      <td>0.880333</td>\n",
              "    </tr>\n",
              "    <tr>\n",
              "      <th>2</th>\n",
              "      <td>0.299054</td>\n",
              "      <td>0.889917</td>\n",
              "      <td>0.297108</td>\n",
              "      <td>0.892250</td>\n",
              "    </tr>\n",
              "    <tr>\n",
              "      <th>3</th>\n",
              "      <td>0.271959</td>\n",
              "      <td>0.901479</td>\n",
              "      <td>0.267093</td>\n",
              "      <td>0.903583</td>\n",
              "    </tr>\n",
              "    <tr>\n",
              "      <th>4</th>\n",
              "      <td>0.257155</td>\n",
              "      <td>0.905937</td>\n",
              "      <td>0.237631</td>\n",
              "      <td>0.915583</td>\n",
              "    </tr>\n",
              "  </tbody>\n",
              "</table>\n",
              "</div>"
            ],
            "text/plain": [
              "       loss  accuracy  val_loss  val_accuracy\n",
              "0  0.553630  0.799521  1.577726      0.530667\n",
              "1  0.351147  0.872958  0.313563      0.880333\n",
              "2  0.299054  0.889917  0.297108      0.892250\n",
              "3  0.271959  0.901479  0.267093      0.903583\n",
              "4  0.257155  0.905937  0.237631      0.915583"
            ]
          },
          "metadata": {
            "tags": []
          },
          "execution_count": 72
        }
      ]
    },
    {
      "cell_type": "markdown",
      "metadata": {
        "id": "Kl_NZ9QjGeoL"
      },
      "source": [
        "Plotting the loss and accuracy metrics\n",
        "\n"
      ]
    },
    {
      "cell_type": "code",
      "metadata": {
        "colab": {
          "base_uri": "https://localhost:8080/",
          "height": 282
        },
        "id": "7Vw31JRC8hZ6",
        "outputId": "e2990dd3-2e8e-4687-9c22-beba33a7eace"
      },
      "source": [
        "metrics[['loss', 'val_loss']].plot()"
      ],
      "execution_count": null,
      "outputs": [
        {
          "output_type": "execute_result",
          "data": {
            "text/plain": [
              "<matplotlib.axes._subplots.AxesSubplot at 0x7f7764391630>"
            ]
          },
          "metadata": {
            "tags": []
          },
          "execution_count": 73
        },
        {
          "output_type": "display_data",
          "data": {
            "image/png": "[encoded data removed]",
            "text/plain": [
              "<Figure size 432x288 with 1 Axes>"
            ]
          },
          "metadata": {
            "tags": [],
            "needs_background": "light"
          }
        }
      ]
    },
    {
      "cell_type": "code",
      "metadata": {
        "colab": {
          "base_uri": "https://localhost:8080/",
          "height": 282
        },
        "id": "k1-mjGTh8jg7",
        "outputId": "312fab94-84ea-4801-ea4d-c41f8e4b47fc"
      },
      "source": [
        "metrics[['accuracy', 'val_accuracy']].plot()\n"
      ],
      "execution_count": null,
      "outputs": [
        {
          "output_type": "execute_result",
          "data": {
            "text/plain": [
              "<matplotlib.axes._subplots.AxesSubplot at 0x7f77c7111f28>"
            ]
          },
          "metadata": {
            "tags": []
          },
          "execution_count": 74
        },
        {
          "output_type": "display_data",
          "data": {
            "image/png": "[encoded data removed]",
            "text/plain": [
              "<Figure size 432x288 with 1 Axes>"
            ]
          },
          "metadata": {
            "tags": [],
            "needs_background": "light"
          }
        }
      ]
    },
    {
      "cell_type": "markdown",
      "metadata": {
        "id": "uKH1tYy_Gbpq"
      },
      "source": [
        "Evaluating the model on the test set\n",
        "\n"
      ]
    },
    {
      "cell_type": "code",
      "metadata": {
        "colab": {
          "base_uri": "https://localhost:8080/"
        },
        "id": "hnfmFhV2GPRG",
        "outputId": "dbf798f8-5dc5-4328-a8c2-0840b1d178ff"
      },
      "source": [
        "model.metrics_names\n"
      ],
      "execution_count": null,
      "outputs": [
        {
          "output_type": "execute_result",
          "data": {
            "text/plain": [
              "['loss', 'accuracy']"
            ]
          },
          "metadata": {
            "tags": []
          },
          "execution_count": 81
        }
      ]
    },
    {
      "cell_type": "code",
      "metadata": {
        "colab": {
          "base_uri": "https://localhost:8080/"
        },
        "id": "zXiVwtrJGRBs",
        "outputId": "dc84bda6-a77a-4011-8793-fc27f49e6b59"
      },
      "source": [
        "model.evaluate(X_test, y_cat_test, verbose = 0)\n"
      ],
      "execution_count": null,
      "outputs": [
        {
          "output_type": "execute_result",
          "data": {
            "text/plain": [
              "[0.20651833713054657, 0.9344000220298767]"
            ]
          },
          "metadata": {
            "tags": []
          },
          "execution_count": 82
        }
      ]
    },
    {
      "cell_type": "markdown",
      "metadata": {
        "id": "DG12L2FPGVsj"
      },
      "source": [
        "It has a **93.4%** accuracy on the test set which is not that bad. As you can see from the loss metric graph that the val_loss started to go up a little bit. To prevent that, you can apply some more regularizations in the neural network. You can reduce the patience level in Early stopping or use more dropout layers.\n",
        "\n"
      ]
    },
    {
      "cell_type": "markdown",
      "metadata": {
        "id": "pCHifDtkDf9G"
      },
      "source": [
        "Let's visualize the true and predicted classes\n",
        "\n"
      ]
    },
    {
      "cell_type": "code",
      "metadata": {
        "colab": {
          "base_uri": "https://localhost:8080/",
          "height": 820
        },
        "id": "G88IIQ-kDaYR",
        "outputId": "1c18056b-0c28-43fc-8124-09081affa974"
      },
      "source": [
        "predictions = model.predict(X_test)\n",
        "X_test_reshape = X_test.reshape(X_test.shape[0], 28, 28)\n",
        "\n",
        "fig, axis = plt.subplots(4, 4, figsize=(12, 14))\n",
        "for i, ax in enumerate(axis.flat):\n",
        "    ax.imshow(X_test_reshape[i], cmap='binary')\n",
        "    ax.set(title = f\"Real Class is {classes[y_cat_test[i].argmax()]}\\nPredict Class is {classes[predictions[i].argmax()]}\");\n"
      ],
      "execution_count": null,
      "outputs": [
        {
          "output_type": "display_data",
          "data": {
            "image/png": "[encoded data removed]",
            "text/plain": [
              "<Figure size 864x1008 with 16 Axes>"
            ]
          },
          "metadata": {
            "tags": [],
            "needs_background": "light"
          }
        }
      ]
    },
    {
      "cell_type": "code",
      "metadata": {
        "id": "fqYf2CJRFSba"
      },
      "source": [
        "predictions = model.predict(X_test)\n",
        "# Convert predictions classes to one hot vectors \n",
        "predictions_classes = np.argmax(predictions, axis = 1)\n",
        "# Convert test set observations to one hot vectors\n",
        "y_true = np.argmax(y_cat_test, axis = 1)"
      ],
      "execution_count": null,
      "outputs": []
    },
    {
      "cell_type": "code",
      "metadata": {
        "colab": {
          "base_uri": "https://localhost:8080/"
        },
        "id": "pNfGFcr3FV6q",
        "outputId": "98b6b3bf-9720-48b0-a651-50ff5a732247"
      },
      "source": [
        "print(classification_report(y_true, predictions_classes))\n"
      ],
      "execution_count": null,
      "outputs": [
        {
          "output_type": "stream",
          "text": [
            "              precision    recall  f1-score   support\n",
            "\n",
            "           0       0.90      0.86      0.88      1000\n",
            "           1       0.99      0.99      0.99      1000\n",
            "           2       0.94      0.85      0.89      1000\n",
            "           3       0.94      0.95      0.94      1000\n",
            "           4       0.86      0.94      0.90      1000\n",
            "           5       1.00      0.98      0.99      1000\n",
            "           6       0.80      0.82      0.81      1000\n",
            "           7       0.96      0.98      0.97      1000\n",
            "           8       0.99      0.99      0.99      1000\n",
            "           9       0.97      0.98      0.98      1000\n",
            "\n",
            "    accuracy                           0.93     10000\n",
            "   macro avg       0.94      0.93      0.93     10000\n",
            "weighted avg       0.94      0.93      0.93     10000\n",
            "\n"
          ],
          "name": "stdout"
        }
      ]
    },
    {
      "cell_type": "markdown",
      "metadata": {
        "id": "MUQI3Qg4Fh2m"
      },
      "source": [
        "Precision:- Precision is the number of positive class predictions that actually belong to the positive class.\n",
        "\n",
        "Recall:- Recall is the number of positive class predictions made out of all positive examples in the dataset.\n",
        "\n",
        "F1-score:- It provides a single score that balances both the concerns of precision and recall in one number."
      ]
    },
    {
      "cell_type": "code",
      "metadata": {
        "colab": {
          "base_uri": "https://localhost:8080/"
        },
        "id": "PuMlXmU1FYN8",
        "outputId": "459ef28c-c26d-4e5d-c059-192707bd342d"
      },
      "source": [
        "print(confusion_matrix(y_true, predictions_classes))\n"
      ],
      "execution_count": null,
      "outputs": [
        {
          "output_type": "stream",
          "text": [
            "[[864   1  16  15   0   0 101   0   3   0]\n",
            " [  0 995   0   4   0   0   1   0   0   0]\n",
            " [ 12   0 846  10  77   0  54   0   1   0]\n",
            " [  7   3   3 946  28   0  13   0   0   0]\n",
            " [  1   0  11   9 943   0  36   0   0   0]\n",
            " [  0   0   0   0   1 977   0  16   1   5]\n",
            " [ 73   2  24  25  49   0 825   0   2   0]\n",
            " [  0   0   0   0   0   0   0 979   0  21]\n",
            " [  0   2   1   0   2   0   4   0 991   0]\n",
            " [  0   0   0   0   0   1   0  21   0 978]]\n"
          ],
          "name": "stdout"
        }
      ]
    },
    {
      "cell_type": "code",
      "metadata": {
        "colab": {
          "base_uri": "https://localhost:8080/",
          "height": 500
        },
        "id": "wD8bwIsrFcB7",
        "outputId": "909dd849-37cd-46db-d4d8-0d27ad0948d7"
      },
      "source": [
        "plt.figure(figsize = (12, 8))\n",
        "sns.heatmap(confusion_matrix(y_true, predictions_classes), annot=True)"
      ],
      "execution_count": null,
      "outputs": [
        {
          "output_type": "execute_result",
          "data": {
            "text/plain": [
              "<matplotlib.axes._subplots.AxesSubplot at 0x7f77c73668d0>"
            ]
          },
          "metadata": {
            "tags": []
          },
          "execution_count": 80
        },
        {
          "output_type": "display_data",
          "data": {
            "image/png": "[encoded data removed]",
            "text/plain": [
              "<Figure size 864x576 with 2 Axes>"
            ]
          },
          "metadata": {
            "tags": [],
            "needs_background": "light"
          }
        }
      ]
    },
    {
      "cell_type": "markdown",
      "metadata": {
        "id": "wzlZX2kjFeSk"
      },
      "source": [
        "Confusion Matrix:- It is a tabular summary of the number of correct and incorrect predictions made by a classifier.\n",
        "\n"
      ]
    }
  ]
}