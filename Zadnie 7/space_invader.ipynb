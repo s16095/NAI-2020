{
  "nbformat": 4,
  "nbformat_minor": 0,
  "metadata": {
    "accelerator": "GPU",
    "colab": {
      "name": "Kopia notatnika Kopia notatnika space_invader.ipynb",
      "provenance": [],
      "collapsed_sections": [],
      "toc_visible": true
    },
    "kernelspec": {
      "display_name": "Python 3",
      "language": "python",
      "name": "python3"
    },
    "language_info": {
      "codemirror_mode": {
        "name": "ipython",
        "version": 3
      },
      "file_extension": ".py",
      "mimetype": "text/x-python",
      "name": "python",
      "nbconvert_exporter": "python",
      "pygments_lexer": "ipython3",
      "version": "3.7.6-final"
    }
  },
  "cells": [
    {
      "cell_type": "markdown",
      "metadata": {
        "id": "rwPSsgP-FZSv"
      },
      "source": [
        "Authors: Wojciech Iracki <s13066@pjwstk.edu.pl>, Adrian Wojewoda <s16095@pjwstk.edu.pl>\n",
        "\n",
        "Problem: Train AI to play space invader game\n",
        "\n",
        "Followed by: github user @deepanshut041"
      ]
    },
    {
      "cell_type": "markdown",
      "metadata": {
        "id": "-hKiyxTED9WK"
      },
      "source": [
        "# install os dependencies to display env"
      ]
    },
    {
      "cell_type": "code",
      "metadata": {
        "colab": {
          "base_uri": "https://localhost:8080/"
        },
        "id": "w_GgfUrEvmVT",
        "outputId": "700e1daf-bd63-4979-f2c9-d777dce59d79"
      },
      "source": [
        "!apt-get install python-opengl -y\n",
        "\n",
        "!apt install xvfb -y\n",
        "\n",
        "!pip install pyvirtualdisplay\n",
        "\n",
        "!pip install piglet\n"
      ],
      "execution_count": null,
      "outputs": [
        {
          "output_type": "stream",
          "text": [
            "Reading package lists... Done\n",
            "Building dependency tree       \n",
            "Reading state information... Done\n",
            "python-opengl is already the newest version (3.1.0+dfsg-1).\n",
            "0 upgraded, 0 newly installed, 0 to remove and 17 not upgraded.\n",
            "Reading package lists... Done\n",
            "Building dependency tree       \n",
            "Reading state information... Done\n",
            "xvfb is already the newest version (2:1.19.6-1ubuntu4.8).\n",
            "0 upgraded, 0 newly installed, 0 to remove and 17 not upgraded.\n",
            "Requirement already satisfied: pyvirtualdisplay in /usr/local/lib/python3.6/dist-packages (2.0)\n",
            "Requirement already satisfied: EasyProcess in /usr/local/lib/python3.6/dist-packages (from pyvirtualdisplay) (0.3)\n",
            "Requirement already satisfied: piglet in /usr/local/lib/python3.6/dist-packages (1.0.0)\n",
            "Requirement already satisfied: piglet-templates in /usr/local/lib/python3.6/dist-packages (from piglet) (1.1.0)\n",
            "Requirement already satisfied: markupsafe in /usr/local/lib/python3.6/dist-packages (from piglet-templates->piglet) (1.1.1)\n",
            "Requirement already satisfied: attrs in /usr/local/lib/python3.6/dist-packages (from piglet-templates->piglet) (20.3.0)\n",
            "Requirement already satisfied: Parsley in /usr/local/lib/python3.6/dist-packages (from piglet-templates->piglet) (1.3)\n",
            "Requirement already satisfied: astunparse in /usr/local/lib/python3.6/dist-packages (from piglet-templates->piglet) (1.6.3)\n",
            "Requirement already satisfied: wheel<1.0,>=0.23.0 in /usr/local/lib/python3.6/dist-packages (from astunparse->piglet-templates->piglet) (0.36.2)\n",
            "Requirement already satisfied: six<2.0,>=1.6.1 in /usr/local/lib/python3.6/dist-packages (from astunparse->piglet-templates->piglet) (1.15.0)\n"
          ],
          "name": "stdout"
        }
      ]
    },
    {
      "cell_type": "markdown",
      "metadata": {
        "id": "1lLo2SIuEJqO"
      },
      "source": [
        "# Import python dependencies"
      ]
    },
    {
      "cell_type": "code",
      "metadata": {
        "id": "9izU65woFEyL"
      },
      "source": [
        "import time\n",
        "import gym\n",
        "import random\n",
        "import torch\n",
        "import numpy as np\n",
        "from collections import deque\n",
        "import matplotlib.pyplot as plt\n",
        "from IPython.display import clear_output\n",
        "import math\n",
        "\n",
        "%matplotlib inline"
      ],
      "execution_count": null,
      "outputs": []
    },
    {
      "cell_type": "markdown",
      "metadata": {
        "id": "FfvpuyMsEhHp"
      },
      "source": [
        "# start virtual display"
      ]
    },
    {
      "cell_type": "code",
      "metadata": {
        "colab": {
          "base_uri": "https://localhost:8080/"
        },
        "id": "fikalgthv6yN",
        "outputId": "e02e6585-77b3-49d9-a96c-4959032f972b"
      },
      "source": [
        "from pyvirtualdisplay import Display\n",
        "Display().start()\n"
      ],
      "execution_count": null,
      "outputs": [
        {
          "output_type": "execute_result",
          "data": {
            "text/plain": [
              "<pyvirtualdisplay.display.Display at 0x7ff79003b2e8>"
            ]
          },
          "metadata": {
            "tags": []
          },
          "execution_count": 41
        }
      ]
    },
    {
      "cell_type": "markdown",
      "metadata": {
        "id": "7r0CJqYDEe05"
      },
      "source": [
        "#import ai classes"
      ]
    },
    {
      "cell_type": "code",
      "metadata": {
        "id": "a3KRYDE4FEyL"
      },
      "source": [
        "import sys\n",
        "from agent import A2CAgent\n",
        "from models import ActorCnn, CriticCnn\n",
        "from stack_frame import preprocess_frame, stack_frame"
      ],
      "execution_count": null,
      "outputs": []
    },
    {
      "cell_type": "markdown",
      "metadata": {
        "id": "tfo8jleHGadK"
      },
      "source": [
        "# create environment"
      ]
    },
    {
      "cell_type": "code",
      "metadata": {
        "id": "HOa_BJRuFEyM",
        "colab": {
          "base_uri": "https://localhost:8080/"
        },
        "outputId": "cfc8d47b-cf23-4ad8-8a4a-75b14debcf84"
      },
      "source": [
        "env = gym.make('SpaceInvaders-v0')\n",
        "env.seed(0)"
      ],
      "execution_count": null,
      "outputs": [
        {
          "output_type": "execute_result",
          "data": {
            "text/plain": [
              "[0, 592379725]"
            ]
          },
          "metadata": {
            "tags": []
          },
          "execution_count": 43
        }
      ]
    },
    {
      "cell_type": "markdown",
      "metadata": {
        "id": "nB5cwsYGEjf5"
      },
      "source": [
        "# set accelerator "
      ]
    },
    {
      "cell_type": "code",
      "metadata": {
        "id": "FPe1mB5JFEyM",
        "colab": {
          "base_uri": "https://localhost:8080/"
        },
        "outputId": "02394a3a-c936-4054-f016-728d72e8601d"
      },
      "source": [
        "# if gpu is to be used\n",
        "device = torch.device(\"cuda\" if torch.cuda.is_available() else \"cpu\")\n",
        "print(\"Device: \", device)"
      ],
      "execution_count": null,
      "outputs": [
        {
          "output_type": "stream",
          "text": [
            "Device:  cuda\n"
          ],
          "name": "stdout"
        }
      ]
    },
    {
      "cell_type": "markdown",
      "metadata": {
        "id": "nS221MgXGadP"
      },
      "source": [
        "# view Enviroment"
      ]
    },
    {
      "cell_type": "code",
      "metadata": {
        "id": "rs-Khk5iFEyN",
        "colab": {
          "base_uri": "https://localhost:8080/",
          "height": 315
        },
        "outputId": "4fa4428a-79d7-479c-9f52-8f856e205396"
      },
      "source": [
        "print(\"The size of frame is: \", env.observation_space.shape)\n",
        "print(\"No. of Actions: \", env.action_space.n)\n",
        "env.reset()\n",
        "plt.figure()\n",
        "plt.imshow(env.reset())\n",
        "plt.title('Original Frame')\n",
        "plt.show()"
      ],
      "execution_count": null,
      "outputs": [
        {
          "output_type": "stream",
          "text": [
            "The size of frame is:  (210, 160, 3)\n",
            "No. of Actions:  6\n"
          ],
          "name": "stdout"
        },
        {
          "output_type": "display_data",
          "data": {
            "image/png": "[encoded data removed]",
            "text/plain": [
              "<Figure size 432x288 with 1 Axes>"
            ]
          },
          "metadata": {
            "tags": [],
            "needs_background": "light"
          }
        }
      ]
    },
    {
      "cell_type": "markdown",
      "metadata": {
        "id": "qy2s_J2EFEyN"
      },
      "source": [
        "### execute the code cell below to play with a random policy."
      ]
    },
    {
      "cell_type": "code",
      "metadata": {
        "id": "WQ3SMZxHFEyN",
        "colab": {
          "base_uri": "https://localhost:8080/"
        },
        "outputId": "57ba194c-dfd8-432e-b394-f47173447fc9"
      },
      "source": [
        "def random_play():\n",
        "    score = 0\n",
        "    env.reset()\n",
        "    while True:\n",
        "        env.render()\n",
        "        action = env.action_space.sample()\n",
        "        state, reward, done, _ = env.step(action)\n",
        "        score += reward\n",
        "        if done:\n",
        "            env.close()\n",
        "            print(\"Your Score at end of game is: \", score)\n",
        "            break\n",
        "random_play()"
      ],
      "execution_count": null,
      "outputs": [
        {
          "output_type": "stream",
          "text": [
            "Your Score at end of game is:  130.0\n"
          ],
          "name": "stdout"
        }
      ]
    },
    {
      "cell_type": "markdown",
      "metadata": {
        "id": "Sr52nmcpGada"
      },
      "source": [
        "\n",
        "\n",
        "```\n",
        "# Sformatowano jako kod\n",
        "```\n",
        "\n",
        "# preprocessing frame"
      ]
    },
    {
      "cell_type": "code",
      "metadata": {
        "id": "vduG7nB4FEyO",
        "colab": {
          "base_uri": "https://localhost:8080/",
          "height": 281
        },
        "outputId": "be62c7e4-d6a5-4bbc-959a-8ac8980ad264"
      },
      "source": [
        "env.reset()\n",
        "plt.figure()\n",
        "plt.imshow(preprocess_frame(env.reset(), (8, -12, -12, 4), 84), cmap=\"gray\")\n",
        "plt.title('Pre Processed image')\n",
        "plt.show()"
      ],
      "execution_count": null,
      "outputs": [
        {
          "output_type": "display_data",
          "data": {
            "image/png": "[encoded data removed]",
            "text/plain": [
              "<Figure size 432x288 with 1 Axes>"
            ]
          },
          "metadata": {
            "tags": [],
            "needs_background": "light"
          }
        }
      ]
    },
    {
      "cell_type": "markdown",
      "metadata": {
        "id": "mJMc3HA8Gade"
      },
      "source": [
        "# stacking frame"
      ]
    },
    {
      "cell_type": "code",
      "metadata": {
        "id": "Wm2XL8yQFEyO"
      },
      "source": [
        "def stack_frames(frames, state, is_new=False):\n",
        "    frame = preprocess_frame(state, (8, -12, -12, 4), 84)\n",
        "    frames = stack_frame(frames, frame, is_new)\n",
        "\n",
        "    return frames\n",
        "    "
      ],
      "execution_count": null,
      "outputs": []
    },
    {
      "cell_type": "markdown",
      "metadata": {
        "id": "cRQvhJAhFEyP"
      },
      "source": [
        "# creating agent"
      ]
    },
    {
      "cell_type": "code",
      "metadata": {
        "id": "xqn7eqa7FEyP"
      },
      "source": [
        "INPUT_SHAPE = (4, 84, 84)\n",
        "ACTION_SIZE = env.action_space.n\n",
        "SEED = 0\n",
        "GAMMA = 0.99           # discount factor\n",
        "ALPHA= 0.0001          # Actor learning rate\n",
        "BETA = 0.0005          # Critic learning rate\n",
        "UPDATE_EVERY = 100     # how often to update the network \n",
        "\n",
        "agent = A2CAgent(INPUT_SHAPE, ACTION_SIZE, SEED, device, GAMMA, ALPHA, BETA, UPDATE_EVERY, ActorCnn, CriticCnn)"
      ],
      "execution_count": null,
      "outputs": []
    },
    {
      "cell_type": "markdown",
      "metadata": {
        "id": "-aF-HIeoFEyP"
      },
      "source": [
        "# run untrained agent play"
      ]
    },
    {
      "cell_type": "code",
      "metadata": {
        "id": "1oLUiZAfFEyP"
      },
      "source": [
        "\n",
        "state = stack_frames(None, env.reset(), True) \n",
        "for j in range(200):\n",
        "    env.render()\n",
        "    action, _, _ = agent.act(state)\n",
        "    next_state, reward, done, _ = env.step(action)\n",
        "    state = stack_frames(state, next_state, False)\n",
        "    if done:\n",
        "        break \n",
        "        \n",
        "env.close()"
      ],
      "execution_count": null,
      "outputs": []
    },
    {
      "cell_type": "markdown",
      "metadata": {
        "id": "OMG_qzggFEyQ"
      },
      "source": [
        "# loading agent\n",
        "Uncomment line to load a pretrained agent"
      ]
    },
    {
      "cell_type": "code",
      "metadata": {
        "id": "e9k_c5qlFEyQ"
      },
      "source": [
        "start_epoch = 0\n",
        "scores = []\n",
        "scores_window = deque(maxlen=20)"
      ],
      "execution_count": null,
      "outputs": []
    },
    {
      "cell_type": "markdown",
      "metadata": {
        "id": "69prrHXhFEyQ"
      },
      "source": [
        "# train the agent with DQN"
      ]
    },
    {
      "cell_type": "code",
      "metadata": {
        "id": "YoqkmnWmFEyQ"
      },
      "source": [
        "def train(n_episodes=1000):\n",
        "    \"\"\"\n",
        "    Params\n",
        "    ======\n",
        "        n_episodes (int): maximum number of training episodes\n",
        "    \"\"\"\n",
        "    for i_episode in range(start_epoch + 1, n_episodes+1):\n",
        "        state = stack_frames(None, env.reset(), True)\n",
        "        score = 0\n",
        "        while True:\n",
        "            action, log_prob, entropy = agent.act(state)\n",
        "            next_state, reward, done, info = env.step(action)\n",
        "            score += reward\n",
        "            next_state = stack_frames(state, next_state, False)\n",
        "            agent.step(state, log_prob, entropy, reward, done, next_state)\n",
        "            state = next_state\n",
        "            if done:\n",
        "                break\n",
        "        scores_window.append(score)       # save most recent score\n",
        "        scores.append(score)              # save most recent score\n",
        "        \n",
        "        clear_output(True)\n",
        "        fig = plt.figure()\n",
        "        ax = fig.add_subplot(111)\n",
        "        plt.plot(np.arange(len(scores)), scores)\n",
        "        plt.ylabel('Score')\n",
        "        plt.xlabel('Episode #')\n",
        "        plt.show()\n",
        "        print('\\rEpisode {}\\tAverage Score: {:.2f}'.format(i_episode, np.mean(scores_window)), end=\"\")\n",
        "    \n",
        "    return scores"
      ],
      "execution_count": null,
      "outputs": []
    },
    {
      "cell_type": "code",
      "metadata": {
        "colab": {
          "base_uri": "https://localhost:8080/",
          "height": 296
        },
        "id": "bgLFix3DCPI8",
        "outputId": "5edc61a1-6102-43f3-e292-9110160fe679"
      },
      "source": [
        "scores = train(100)"
      ],
      "execution_count": null,
      "outputs": [
        {
          "output_type": "display_data",
          "data": {
            "image/png": "[encoded data removed]",
            "text/plain": [
              "<Figure size 432x288 with 1 Axes>"
            ]
          },
          "metadata": {
            "tags": [],
            "needs_background": "light"
          }
        },
        {
          "output_type": "stream",
          "text": [
            "\rEpisode 100\tAverage Score: 168.00"
          ],
          "name": "stdout"
        }
      ]
    },
    {
      "cell_type": "markdown",
      "metadata": {
        "id": "0ava8fxvFEyR"
      },
      "source": [
        "# run learnt agent"
      ]
    },
    {
      "cell_type": "code",
      "metadata": {
        "id": "FaGTg898FEyR",
        "colab": {
          "base_uri": "https://localhost:8080/"
        },
        "outputId": "e948cef8-6761-4a0a-ba6e-02fcc9bff95b"
      },
      "source": [
        "score = 0\n",
        "state = stack_frames(None, env.reset(), True)\n",
        "while True:\n",
        "    env.render()\n",
        "    action, _, _ = agent.act(state)\n",
        "    next_state, reward, done, _ = env.step(action)\n",
        "    score += reward\n",
        "    state = stack_frames(state, next_state, False)\n",
        "    if done:\n",
        "        print(\"You Final score is:\", score)\n",
        "        break \n",
        "env.close()"
      ],
      "execution_count": null,
      "outputs": [
        {
          "output_type": "stream",
          "text": [
            "You Final score is: 210.0\n"
          ],
          "name": "stdout"
        }
      ]
    }
  ]
}