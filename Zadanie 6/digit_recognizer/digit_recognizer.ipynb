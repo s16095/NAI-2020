{
  "nbformat": 4,
  "nbformat_minor": 0,
  "metadata": {
    "colab": {
      "name": "digit_recognizer.ipynb",
      "provenance": []
    },
    "kernelspec": {
      "name": "python3",
      "display_name": "Python 3"
    },
    "accelerator": "GPU"
  },
  "cells": [
    {
      "cell_type": "code",
      "metadata": {
        "id": "hUG9T8hjT-eS"
      },
      "source": [
        "import pandas as pd\n",
        "import numpy as np\n",
        "\n",
        "import matplotlib.pyplot as plt\n",
        "\n",
        "import tensorflow as tf\n"
      ],
      "execution_count": 1,
      "outputs": []
    },
    {
      "cell_type": "code",
      "metadata": {
        "id": "s3E9iCbOUR6h"
      },
      "source": [
        "mnist = pd.read_csv(\"/content/train.csv\")\n"
      ],
      "execution_count": 2,
      "outputs": []
    },
    {
      "cell_type": "code",
      "metadata": {
        "id": "uaX3galIU7uc"
      },
      "source": [
        "y = mnist.iloc[:, 0].values\n",
        "X = mnist.iloc[:, 1:].values"
      ],
      "execution_count": 3,
      "outputs": []
    },
    {
      "cell_type": "code",
      "metadata": {
        "id": "oQpMzBn7VBH3"
      },
      "source": [
        "from sklearn.model_selection import train_test_split\n",
        "\n",
        "X_train, X_test, y_train, y_test = train_test_split(X, y, test_size=0.1\n",
        "                                                    , random_state = 0)"
      ],
      "execution_count": 4,
      "outputs": []
    },
    {
      "cell_type": "code",
      "metadata": {
        "colab": {
          "base_uri": "https://localhost:8080/"
        },
        "id": "mkroBN9AVCvX",
        "outputId": "ddd3a774-ccb1-4289-a567-5b27016cce85"
      },
      "source": [
        "print(\"X_train shape: \", X_train.shape)\n",
        "print(\"X_test shape: \", X_test.shape)\n",
        "print(\"y_train shape: \", y_train.shape)\n",
        "print(\"y_test shape: \", y_test.shape)"
      ],
      "execution_count": 5,
      "outputs": [
        {
          "output_type": "stream",
          "text": [
            "X_train shape:  (8768, 784)\n",
            "X_test shape:  (975, 784)\n",
            "y_train shape:  (8768,)\n",
            "y_test shape:  (975,)\n"
          ],
          "name": "stdout"
        }
      ]
    },
    {
      "cell_type": "code",
      "metadata": {
        "colab": {
          "base_uri": "https://localhost:8080/",
          "height": 447
        },
        "id": "BhAOYtYpVFac",
        "outputId": "9c24ab67-57ba-4d43-af4d-16974df8e169"
      },
      "source": [
        "nrows = 2\n",
        "ncols = 4\n",
        "\n",
        "pic_indexes = np.random.randint(X_train.shape[0], size=(nrows*ncols))\n",
        "\n",
        "f, axs = plt.subplots(nrows, ncols, figsize=(12, 8))\n",
        "axs = axs.flatten()\n",
        "\n",
        "picture_index  = 0\n",
        "\n",
        "for picture_index, ax in zip(pic_indexes, axs):\n",
        "        ax.imshow(X_train[picture_index].reshape(28, 28), cmap='gray')\n",
        "        ax.set_title(f'Label: {y_train[picture_index]}')\n",
        "\n",
        "plt.show()"
      ],
      "execution_count": 6,
      "outputs": [
        {
          "output_type": "display_data",
          "data": {
            "image/png": "[encoded data removed]",
            "text/plain": [
              "<Figure size 864x576 with 8 Axes>"
            ]
          },
          "metadata": {
            "tags": [],
            "needs_background": "light"
          }
        }
      ]
    },
    {
      "cell_type": "code",
      "metadata": {
        "id": "mKSt7bn8VKS_"
      },
      "source": [
        "X_train = X_train.reshape(-1, 28, 28, 1).astype('float32') / 255.0\n",
        "X_test = X_test.reshape(-1, 28, 28, 1).astype('float32') / 255.0"
      ],
      "execution_count": 8,
      "outputs": []
    },
    {
      "cell_type": "code",
      "metadata": {
        "id": "qhP8bUNkVMQg"
      },
      "source": [
        "y_train = tf.keras.utils.to_categorical(y_train)\n",
        "y_test = tf.keras.utils.to_categorical(y_test)"
      ],
      "execution_count": 9,
      "outputs": []
    },
    {
      "cell_type": "code",
      "metadata": {
        "colab": {
          "base_uri": "https://localhost:8080/"
        },
        "id": "oA6dDvYqVNgJ",
        "outputId": "c816ca7e-d131-4b84-b9db-3acf37b069ff"
      },
      "source": [
        "print(\"X_train shape: \", X_train.shape)\n",
        "print(\"X_test shape: \", X_test.shape)\n",
        "print(\"y_train shape: \", y_train.shape)\n",
        "print(\"y_test shape: \", y_test.shape)"
      ],
      "execution_count": 10,
      "outputs": [
        {
          "output_type": "stream",
          "text": [
            "X_train shape:  (8768, 28, 28, 1)\n",
            "X_test shape:  (975, 28, 28, 1)\n",
            "y_train shape:  (8768, 10)\n",
            "y_test shape:  (975, 10)\n"
          ],
          "name": "stdout"
        }
      ]
    },
    {
      "cell_type": "code",
      "metadata": {
        "id": "_h3Y-lSdVQFD"
      },
      "source": [
        "model = tf.keras.models.Sequential([\n",
        "    tf.keras.layers.Conv2D(32, (3, 3), activation = 'relu', padding = 'same', input_shape = (28, 28, 1)),\n",
        "    tf.keras.layers.Conv2D(32, (3, 3), activation = 'relu', padding = 'same'),\n",
        "    tf.keras.layers.BatchNormalization(),\n",
        "    tf.keras.layers.MaxPooling2D(2, 2),\n",
        "    tf.keras.layers.Dropout(0.2),\n",
        "    \n",
        "    tf.keras.layers.Conv2D(64, (3, 3), activation = 'relu', padding = 'same'),\n",
        "    tf.keras.layers.Conv2D(64, (3, 3), activation = 'relu', padding = 'same'),\n",
        "    tf.keras.layers.BatchNormalization(),\n",
        "    tf.keras.layers.MaxPooling2D(2, 2),\n",
        "    tf.keras.layers.Dropout(0.2),\n",
        "    \n",
        "    tf.keras.layers.Conv2D(128, (3, 3), activation = 'relu', padding = 'same'),\n",
        "    tf.keras.layers.Conv2D(128, (3, 3), activation = 'relu', padding = 'same'),\n",
        "    tf.keras.layers.BatchNormalization(),\n",
        "    tf.keras.layers.MaxPooling2D(2, 2),\n",
        "    tf.keras.layers.Dropout(0.2),\n",
        "    \n",
        "    tf.keras.layers.Flatten(),\n",
        "    \n",
        "    tf.keras.layers.Dense(512, activation = 'relu'),\n",
        "    tf.keras.layers.BatchNormalization(),\n",
        "    tf.keras.layers.Dropout(0.2),\n",
        "    \n",
        "    tf.keras.layers.Dense(256, activation = 'relu'),\n",
        "    tf.keras.layers.BatchNormalization(),\n",
        "    tf.keras.layers.Dropout(0.35),\n",
        "    \n",
        "    tf.keras.layers.Dense(10, activation = 'softmax')\n",
        "])"
      ],
      "execution_count": 11,
      "outputs": []
    },
    {
      "cell_type": "code",
      "metadata": {
        "id": "SK8Y2uNHVNb5"
      },
      "source": [
        ""
      ],
      "execution_count": null,
      "outputs": []
    },
    {
      "cell_type": "code",
      "metadata": {
        "colab": {
          "base_uri": "https://localhost:8080/"
        },
        "id": "AXZEdrDUVR5v",
        "outputId": "b2291ae3-631c-46c7-fa92-8c89702431ba"
      },
      "source": [
        "model.summary()\n"
      ],
      "execution_count": 12,
      "outputs": [
        {
          "output_type": "stream",
          "text": [
            "Model: \"sequential\"\n",
            "_________________________________________________________________\n",
            "Layer (type)                 Output Shape              Param #   \n",
            "=================================================================\n",
            "conv2d (Conv2D)              (None, 28, 28, 32)        320       \n",
            "_________________________________________________________________\n",
            "conv2d_1 (Conv2D)            (None, 28, 28, 32)        9248      \n",
            "_________________________________________________________________\n",
            "batch_normalization (BatchNo (None, 28, 28, 32)        128       \n",
            "_________________________________________________________________\n",
            "max_pooling2d (MaxPooling2D) (None, 14, 14, 32)        0         \n",
            "_________________________________________________________________\n",
            "dropout (Dropout)            (None, 14, 14, 32)        0         \n",
            "_________________________________________________________________\n",
            "conv2d_2 (Conv2D)            (None, 14, 14, 64)        18496     \n",
            "_________________________________________________________________\n",
            "conv2d_3 (Conv2D)            (None, 14, 14, 64)        36928     \n",
            "_________________________________________________________________\n",
            "batch_normalization_1 (Batch (None, 14, 14, 64)        256       \n",
            "_________________________________________________________________\n",
            "max_pooling2d_1 (MaxPooling2 (None, 7, 7, 64)          0         \n",
            "_________________________________________________________________\n",
            "dropout_1 (Dropout)          (None, 7, 7, 64)          0         \n",
            "_________________________________________________________________\n",
            "conv2d_4 (Conv2D)            (None, 7, 7, 128)         73856     \n",
            "_________________________________________________________________\n",
            "conv2d_5 (Conv2D)            (None, 7, 7, 128)         147584    \n",
            "_________________________________________________________________\n",
            "batch_normalization_2 (Batch (None, 7, 7, 128)         512       \n",
            "_________________________________________________________________\n",
            "max_pooling2d_2 (MaxPooling2 (None, 3, 3, 128)         0         \n",
            "_________________________________________________________________\n",
            "dropout_2 (Dropout)          (None, 3, 3, 128)         0         \n",
            "_________________________________________________________________\n",
            "flatten (Flatten)            (None, 1152)              0         \n",
            "_________________________________________________________________\n",
            "dense (Dense)                (None, 512)               590336    \n",
            "_________________________________________________________________\n",
            "batch_normalization_3 (Batch (None, 512)               2048      \n",
            "_________________________________________________________________\n",
            "dropout_3 (Dropout)          (None, 512)               0         \n",
            "_________________________________________________________________\n",
            "dense_1 (Dense)              (None, 256)               131328    \n",
            "_________________________________________________________________\n",
            "batch_normalization_4 (Batch (None, 256)               1024      \n",
            "_________________________________________________________________\n",
            "dropout_4 (Dropout)          (None, 256)               0         \n",
            "_________________________________________________________________\n",
            "dense_2 (Dense)              (None, 10)                2570      \n",
            "=================================================================\n",
            "Total params: 1,014,634\n",
            "Trainable params: 1,012,650\n",
            "Non-trainable params: 1,984\n",
            "_________________________________________________________________\n"
          ],
          "name": "stdout"
        }
      ]
    },
    {
      "cell_type": "code",
      "metadata": {
        "id": "Dxn6tSF7VUJ8"
      },
      "source": [
        "from tensorflow.keras.optimizers import Adam\n",
        "\n",
        "model.compile(optimizer = Adam(lr = 1e-3),\n",
        "              loss = 'categorical_crossentropy',\n",
        "              metrics = ['accuracy'])"
      ],
      "execution_count": 14,
      "outputs": []
    },
    {
      "cell_type": "code",
      "metadata": {
        "id": "aPMPvBYwVX4E"
      },
      "source": [
        "from keras.preprocessing.image import ImageDataGenerator\n",
        "\n",
        "datagen = ImageDataGenerator(\n",
        "        rotation_range= 10,\n",
        "        zoom_range = 0.1,\n",
        "        width_shift_range = 0.1,\n",
        "        height_shift_range = 0.1\n",
        ")\n",
        "\n",
        "datagen.fit(X_train)"
      ],
      "execution_count": 15,
      "outputs": []
    },
    {
      "cell_type": "code",
      "metadata": {
        "id": "gS-J5uTsVZbQ"
      },
      "source": [
        "train_generator = datagen.flow(X_train, y_train, batch_size = 64)\n",
        "\n",
        "validation_generator = datagen.flow(X_test, y_test, batch_size = 64)"
      ],
      "execution_count": 16,
      "outputs": []
    },
    {
      "cell_type": "code",
      "metadata": {
        "id": "Cci0zClrVayP"
      },
      "source": [
        "from keras.callbacks import ReduceLROnPlateau, ModelCheckpoint\n",
        "\n",
        "learning_rate_reduction = ReduceLROnPlateau(monitor = 'val_loss', patience = 3, verbose = 1, factor = 0.5, min_lr = 1e-6)\n",
        "\n",
        "model_checkpoint = ModelCheckpoint('./best_model.hdf5',monitor = 'val_loss', mode = \"min\", verbose = 1, save_best_model = True)"
      ],
      "execution_count": 17,
      "outputs": []
    },
    {
      "cell_type": "code",
      "metadata": {
        "colab": {
          "base_uri": "https://localhost:8080/"
        },
        "id": "u6-1vUIYVcr3",
        "outputId": "369e3031-a088-4941-84f9-c7b654e30368"
      },
      "source": [
        "history = model.fit_generator(\n",
        "    train_generator,\n",
        "    steps_per_epoch = X_train.shape[0] // 64,\n",
        "    epochs = 50,\n",
        "    validation_data = validation_generator,\n",
        "    validation_steps = X_test.shape[0] // 64,\n",
        "    callbacks = [learning_rate_reduction, model_checkpoint]\n",
        ")"
      ],
      "execution_count": 18,
      "outputs": [
        {
          "output_type": "stream",
          "text": [
            "/usr/local/lib/python3.6/dist-packages/tensorflow/python/keras/engine/training.py:1844: UserWarning: `Model.fit_generator` is deprecated and will be removed in a future version. Please use `Model.fit`, which supports generators.\n",
            "  warnings.warn('`Model.fit_generator` is deprecated and '\n"
          ],
          "name": "stderr"
        },
        {
          "output_type": "stream",
          "text": [
            "Epoch 1/50\n",
            "137/137 [==============================] - 11s 25ms/step - loss: 2.0751 - accuracy: 0.3797 - val_loss: 5.6076 - val_accuracy: 0.1281\n",
            "\n",
            "Epoch 00001: saving model to ./best_model.hdf5\n",
            "Epoch 2/50\n",
            "137/137 [==============================] - 3s 21ms/step - loss: 0.4697 - accuracy: 0.8489 - val_loss: 10.1653 - val_accuracy: 0.1250\n",
            "\n",
            "Epoch 00002: saving model to ./best_model.hdf5\n",
            "Epoch 3/50\n",
            "137/137 [==============================] - 3s 22ms/step - loss: 0.2843 - accuracy: 0.9098 - val_loss: 11.2221 - val_accuracy: 0.1437\n",
            "\n",
            "Epoch 00003: saving model to ./best_model.hdf5\n",
            "Epoch 4/50\n",
            "137/137 [==============================] - 3s 22ms/step - loss: 0.2208 - accuracy: 0.9307 - val_loss: 9.2979 - val_accuracy: 0.1490\n",
            "\n",
            "Epoch 00004: ReduceLROnPlateau reducing learning rate to 0.0005000000237487257.\n",
            "\n",
            "Epoch 00004: saving model to ./best_model.hdf5\n",
            "Epoch 5/50\n",
            "137/137 [==============================] - 3s 22ms/step - loss: 0.1577 - accuracy: 0.9506 - val_loss: 1.6283 - val_accuracy: 0.5813\n",
            "\n",
            "Epoch 00005: saving model to ./best_model.hdf5\n",
            "Epoch 6/50\n",
            "137/137 [==============================] - 3s 21ms/step - loss: 0.1344 - accuracy: 0.9594 - val_loss: 0.2157 - val_accuracy: 0.9312\n",
            "\n",
            "Epoch 00006: saving model to ./best_model.hdf5\n",
            "Epoch 7/50\n",
            "137/137 [==============================] - 3s 21ms/step - loss: 0.1175 - accuracy: 0.9595 - val_loss: 0.1856 - val_accuracy: 0.9375\n",
            "\n",
            "Epoch 00007: saving model to ./best_model.hdf5\n",
            "Epoch 8/50\n",
            "137/137 [==============================] - 3s 21ms/step - loss: 0.1277 - accuracy: 0.9600 - val_loss: 0.9522 - val_accuracy: 0.7167\n",
            "\n",
            "Epoch 00008: saving model to ./best_model.hdf5\n",
            "Epoch 9/50\n",
            "137/137 [==============================] - 3s 21ms/step - loss: 0.1102 - accuracy: 0.9662 - val_loss: 9.0566 - val_accuracy: 0.1219\n",
            "\n",
            "Epoch 00009: saving model to ./best_model.hdf5\n",
            "Epoch 10/50\n",
            "137/137 [==============================] - 3s 21ms/step - loss: 0.1074 - accuracy: 0.9662 - val_loss: 0.8291 - val_accuracy: 0.7844\n",
            "\n",
            "Epoch 00010: ReduceLROnPlateau reducing learning rate to 0.0002500000118743628.\n",
            "\n",
            "Epoch 00010: saving model to ./best_model.hdf5\n",
            "Epoch 11/50\n",
            "137/137 [==============================] - 3s 21ms/step - loss: 0.1034 - accuracy: 0.9665 - val_loss: 1.3698 - val_accuracy: 0.7063\n",
            "\n",
            "Epoch 00011: saving model to ./best_model.hdf5\n",
            "Epoch 12/50\n",
            "137/137 [==============================] - 3s 21ms/step - loss: 0.0954 - accuracy: 0.9700 - val_loss: 0.2861 - val_accuracy: 0.9156\n",
            "\n",
            "Epoch 00012: saving model to ./best_model.hdf5\n",
            "Epoch 13/50\n",
            "137/137 [==============================] - 3s 21ms/step - loss: 0.0779 - accuracy: 0.9751 - val_loss: 1.0392 - val_accuracy: 0.7031\n",
            "\n",
            "Epoch 00013: ReduceLROnPlateau reducing learning rate to 0.0001250000059371814.\n",
            "\n",
            "Epoch 00013: saving model to ./best_model.hdf5\n",
            "Epoch 14/50\n",
            "137/137 [==============================] - 3s 21ms/step - loss: 0.0839 - accuracy: 0.9722 - val_loss: 0.0511 - val_accuracy: 0.9875\n",
            "\n",
            "Epoch 00014: saving model to ./best_model.hdf5\n",
            "Epoch 15/50\n",
            "137/137 [==============================] - 3s 21ms/step - loss: 0.0741 - accuracy: 0.9786 - val_loss: 0.1683 - val_accuracy: 0.9521\n",
            "\n",
            "Epoch 00015: saving model to ./best_model.hdf5\n",
            "Epoch 16/50\n",
            "137/137 [==============================] - 3s 21ms/step - loss: 0.0666 - accuracy: 0.9795 - val_loss: 2.4719 - val_accuracy: 0.4938\n",
            "\n",
            "Epoch 00016: saving model to ./best_model.hdf5\n",
            "Epoch 17/50\n",
            "137/137 [==============================] - 3s 21ms/step - loss: 0.0573 - accuracy: 0.9804 - val_loss: 1.3350 - val_accuracy: 0.7073\n",
            "\n",
            "Epoch 00017: ReduceLROnPlateau reducing learning rate to 6.25000029685907e-05.\n",
            "\n",
            "Epoch 00017: saving model to ./best_model.hdf5\n",
            "Epoch 18/50\n",
            "137/137 [==============================] - 3s 21ms/step - loss: 0.0508 - accuracy: 0.9843 - val_loss: 0.0580 - val_accuracy: 0.9823\n",
            "\n",
            "Epoch 00018: saving model to ./best_model.hdf5\n",
            "Epoch 19/50\n",
            "137/137 [==============================] - 3s 21ms/step - loss: 0.0658 - accuracy: 0.9752 - val_loss: 0.0889 - val_accuracy: 0.9719\n",
            "\n",
            "Epoch 00019: saving model to ./best_model.hdf5\n",
            "Epoch 20/50\n",
            "137/137 [==============================] - 3s 21ms/step - loss: 0.0639 - accuracy: 0.9789 - val_loss: 0.0643 - val_accuracy: 0.9812\n",
            "\n",
            "Epoch 00020: ReduceLROnPlateau reducing learning rate to 3.125000148429535e-05.\n",
            "\n",
            "Epoch 00020: saving model to ./best_model.hdf5\n",
            "Epoch 21/50\n",
            "137/137 [==============================] - 3s 21ms/step - loss: 0.0678 - accuracy: 0.9799 - val_loss: 0.1058 - val_accuracy: 0.9729\n",
            "\n",
            "Epoch 00021: saving model to ./best_model.hdf5\n",
            "Epoch 22/50\n",
            "137/137 [==============================] - 3s 21ms/step - loss: 0.0540 - accuracy: 0.9797 - val_loss: 0.0579 - val_accuracy: 0.9802\n",
            "\n",
            "Epoch 00022: saving model to ./best_model.hdf5\n",
            "Epoch 23/50\n",
            "137/137 [==============================] - 3s 21ms/step - loss: 0.0517 - accuracy: 0.9828 - val_loss: 0.0539 - val_accuracy: 0.9854\n",
            "\n",
            "Epoch 00023: ReduceLROnPlateau reducing learning rate to 1.5625000742147677e-05.\n",
            "\n",
            "Epoch 00023: saving model to ./best_model.hdf5\n",
            "Epoch 24/50\n",
            "137/137 [==============================] - 3s 21ms/step - loss: 0.0521 - accuracy: 0.9821 - val_loss: 0.0336 - val_accuracy: 0.9917\n",
            "\n",
            "Epoch 00024: saving model to ./best_model.hdf5\n",
            "Epoch 25/50\n",
            "137/137 [==============================] - 3s 22ms/step - loss: 0.0498 - accuracy: 0.9845 - val_loss: 0.0438 - val_accuracy: 0.9875\n",
            "\n",
            "Epoch 00025: saving model to ./best_model.hdf5\n",
            "Epoch 26/50\n",
            "137/137 [==============================] - 3s 22ms/step - loss: 0.0544 - accuracy: 0.9812 - val_loss: 0.0658 - val_accuracy: 0.9781\n",
            "\n",
            "Epoch 00026: saving model to ./best_model.hdf5\n",
            "Epoch 27/50\n",
            "137/137 [==============================] - 3s 22ms/step - loss: 0.0553 - accuracy: 0.9815 - val_loss: 0.0560 - val_accuracy: 0.9833\n",
            "\n",
            "Epoch 00027: ReduceLROnPlateau reducing learning rate to 7.812500371073838e-06.\n",
            "\n",
            "Epoch 00027: saving model to ./best_model.hdf5\n",
            "Epoch 28/50\n",
            "137/137 [==============================] - 3s 22ms/step - loss: 0.0556 - accuracy: 0.9814 - val_loss: 0.0462 - val_accuracy: 0.9854\n",
            "\n",
            "Epoch 00028: saving model to ./best_model.hdf5\n",
            "Epoch 29/50\n",
            "137/137 [==============================] - 3s 21ms/step - loss: 0.0569 - accuracy: 0.9818 - val_loss: 0.0325 - val_accuracy: 0.9865\n",
            "\n",
            "Epoch 00029: saving model to ./best_model.hdf5\n",
            "Epoch 30/50\n",
            "137/137 [==============================] - 3s 21ms/step - loss: 0.0519 - accuracy: 0.9832 - val_loss: 0.0664 - val_accuracy: 0.9812\n",
            "\n",
            "Epoch 00030: saving model to ./best_model.hdf5\n",
            "Epoch 31/50\n",
            "137/137 [==============================] - 3s 21ms/step - loss: 0.0471 - accuracy: 0.9854 - val_loss: 0.0551 - val_accuracy: 0.9833\n",
            "\n",
            "Epoch 00031: saving model to ./best_model.hdf5\n",
            "Epoch 32/50\n",
            "137/137 [==============================] - 3s 21ms/step - loss: 0.0525 - accuracy: 0.9852 - val_loss: 0.0589 - val_accuracy: 0.9823\n",
            "\n",
            "Epoch 00032: ReduceLROnPlateau reducing learning rate to 3.906250185536919e-06.\n",
            "\n",
            "Epoch 00032: saving model to ./best_model.hdf5\n",
            "Epoch 33/50\n",
            "137/137 [==============================] - 3s 21ms/step - loss: 0.0537 - accuracy: 0.9814 - val_loss: 0.0430 - val_accuracy: 0.9875\n",
            "\n",
            "Epoch 00033: saving model to ./best_model.hdf5\n",
            "Epoch 34/50\n",
            "137/137 [==============================] - 3s 21ms/step - loss: 0.0612 - accuracy: 0.9801 - val_loss: 0.0429 - val_accuracy: 0.9875\n",
            "\n",
            "Epoch 00034: saving model to ./best_model.hdf5\n",
            "Epoch 35/50\n",
            "137/137 [==============================] - 3s 21ms/step - loss: 0.0528 - accuracy: 0.9829 - val_loss: 0.0432 - val_accuracy: 0.9896\n",
            "\n",
            "Epoch 00035: ReduceLROnPlateau reducing learning rate to 1.9531250927684596e-06.\n",
            "\n",
            "Epoch 00035: saving model to ./best_model.hdf5\n",
            "Epoch 36/50\n",
            "137/137 [==============================] - 3s 21ms/step - loss: 0.0428 - accuracy: 0.9861 - val_loss: 0.0413 - val_accuracy: 0.9865\n",
            "\n",
            "Epoch 00036: saving model to ./best_model.hdf5\n",
            "Epoch 37/50\n",
            "137/137 [==============================] - 3s 21ms/step - loss: 0.0516 - accuracy: 0.9829 - val_loss: 0.0412 - val_accuracy: 0.9844\n",
            "\n",
            "Epoch 00037: saving model to ./best_model.hdf5\n",
            "Epoch 38/50\n",
            "137/137 [==============================] - 3s 21ms/step - loss: 0.0514 - accuracy: 0.9823 - val_loss: 0.0370 - val_accuracy: 0.9865\n",
            "\n",
            "Epoch 00038: ReduceLROnPlateau reducing learning rate to 1e-06.\n",
            "\n",
            "Epoch 00038: saving model to ./best_model.hdf5\n",
            "Epoch 39/50\n",
            "137/137 [==============================] - 3s 21ms/step - loss: 0.0453 - accuracy: 0.9857 - val_loss: 0.0472 - val_accuracy: 0.9844\n",
            "\n",
            "Epoch 00039: saving model to ./best_model.hdf5\n",
            "Epoch 40/50\n",
            "137/137 [==============================] - 3s 21ms/step - loss: 0.0453 - accuracy: 0.9864 - val_loss: 0.0387 - val_accuracy: 0.9875\n",
            "\n",
            "Epoch 00040: saving model to ./best_model.hdf5\n",
            "Epoch 41/50\n",
            "137/137 [==============================] - 3s 21ms/step - loss: 0.0522 - accuracy: 0.9844 - val_loss: 0.0401 - val_accuracy: 0.9875\n",
            "\n",
            "Epoch 00041: saving model to ./best_model.hdf5\n",
            "Epoch 42/50\n",
            "137/137 [==============================] - 3s 21ms/step - loss: 0.0516 - accuracy: 0.9817 - val_loss: 0.0435 - val_accuracy: 0.9885\n",
            "\n",
            "Epoch 00042: saving model to ./best_model.hdf5\n",
            "Epoch 43/50\n",
            "137/137 [==============================] - 3s 21ms/step - loss: 0.0499 - accuracy: 0.9831 - val_loss: 0.0442 - val_accuracy: 0.9885\n",
            "\n",
            "Epoch 00043: saving model to ./best_model.hdf5\n",
            "Epoch 44/50\n",
            "137/137 [==============================] - 3s 22ms/step - loss: 0.0509 - accuracy: 0.9828 - val_loss: 0.0450 - val_accuracy: 0.9865\n",
            "\n",
            "Epoch 00044: saving model to ./best_model.hdf5\n",
            "Epoch 45/50\n",
            "137/137 [==============================] - 3s 21ms/step - loss: 0.0502 - accuracy: 0.9838 - val_loss: 0.0483 - val_accuracy: 0.9844\n",
            "\n",
            "Epoch 00045: saving model to ./best_model.hdf5\n",
            "Epoch 46/50\n",
            "137/137 [==============================] - 3s 21ms/step - loss: 0.0459 - accuracy: 0.9864 - val_loss: 0.0503 - val_accuracy: 0.9833\n",
            "\n",
            "Epoch 00046: saving model to ./best_model.hdf5\n",
            "Epoch 47/50\n",
            "137/137 [==============================] - 3s 21ms/step - loss: 0.0474 - accuracy: 0.9836 - val_loss: 0.0392 - val_accuracy: 0.9896\n",
            "\n",
            "Epoch 00047: saving model to ./best_model.hdf5\n",
            "Epoch 48/50\n",
            "137/137 [==============================] - 3s 22ms/step - loss: 0.0416 - accuracy: 0.9883 - val_loss: 0.0351 - val_accuracy: 0.9885\n",
            "\n",
            "Epoch 00048: saving model to ./best_model.hdf5\n",
            "Epoch 49/50\n",
            "137/137 [==============================] - 3s 21ms/step - loss: 0.0609 - accuracy: 0.9800 - val_loss: 0.0465 - val_accuracy: 0.9833\n",
            "\n",
            "Epoch 00049: saving model to ./best_model.hdf5\n",
            "Epoch 50/50\n",
            "137/137 [==============================] - 3s 21ms/step - loss: 0.0487 - accuracy: 0.9829 - val_loss: 0.0399 - val_accuracy: 0.9896\n",
            "\n",
            "Epoch 00050: saving model to ./best_model.hdf5\n"
          ],
          "name": "stdout"
        }
      ]
    },
    {
      "cell_type": "code",
      "metadata": {
        "colab": {
          "base_uri": "https://localhost:8080/",
          "height": 545
        },
        "id": "qZnsH71qWdO5",
        "outputId": "b4fadf4d-2639-4793-8633-f7495db7ca04"
      },
      "source": [
        "accuracy = history.history['accuracy']\n",
        "val_accuracy = history.history['val_accuracy']\n",
        "loss = history.history['loss']\n",
        "val_loss = history.history['val_loss']\n",
        "\n",
        "epochs = len(accuracy)\n",
        "\n",
        "plt.plot(range(epochs), accuracy, 'b', label='Training accuracy')\n",
        "plt.plot(range(epochs), val_accuracy, 'r', label='Validation accuracy')\n",
        "plt.title('Training and validation accuracy')\n",
        "\n",
        "plt.figure()\n",
        "\n",
        "plt.plot(range(epochs), loss, 'b', label='Training Loss')\n",
        "plt.plot(range(epochs), val_loss, 'r', label='Training Loss')\n",
        "plt.title('Training and validation loss')\n",
        "\n",
        "plt.show()"
      ],
      "execution_count": 19,
      "outputs": [
        {
          "output_type": "display_data",
          "data": {
            "image/png": "[encoded data removed]",
            "text/plain": [
              "<Figure size 432x288 with 1 Axes>"
            ]
          },
          "metadata": {
            "tags": [],
            "needs_background": "light"
          }
        },
        {
          "output_type": "display_data",
          "data": {
            "image/png": "[encoded data removed]",
            "text/plain": [
              "<Figure size 432x288 with 1 Axes>"
            ]
          },
          "metadata": {
            "tags": [],
            "needs_background": "light"
          }
        }
      ]
    },
    {
      "cell_type": "code",
      "metadata": {
        "colab": {
          "base_uri": "https://localhost:8080/"
        },
        "id": "Rui43G4OWl2p",
        "outputId": "145a7742-0004-45b7-a2eb-6df18beba6b1"
      },
      "source": [
        "model.evaluate(X_test, y_test, verbose = 1)\n"
      ],
      "execution_count": 20,
      "outputs": [
        {
          "output_type": "stream",
          "text": [
            "31/31 [==============================] - 0s 6ms/step - loss: 0.0328 - accuracy: 0.9887\n"
          ],
          "name": "stdout"
        },
        {
          "output_type": "execute_result",
          "data": {
            "text/plain": [
              "[0.03276655822992325, 0.9887179732322693]"
            ]
          },
          "metadata": {
            "tags": []
          },
          "execution_count": 20
        }
      ]
    }
  ]
}